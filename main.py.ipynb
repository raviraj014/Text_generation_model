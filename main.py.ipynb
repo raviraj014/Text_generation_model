{
 "cells": [
  {
   "cell_type": "code",
   "execution_count": 1,
   "id": "ea8d66d6",
   "metadata": {},
   "outputs": [],
   "source": [
    "import tensorflow as tf\n",
    "import pandas as pd\n",
    "import numpy as np"
   ]
  },
  {
   "cell_type": "code",
   "execution_count": 2,
   "id": "eca22a8e",
   "metadata": {},
   "outputs": [],
   "source": [
    "filename = \"robert_frost.txt\"\n",
    "story_data = open(filename, 'r', encoding='utf-8').read()"
   ]
  },
  {
   "cell_type": "code",
   "execution_count": 3,
   "id": "8552c3c2",
   "metadata": {},
   "outputs": [
    {
     "data": {
      "text/plain": [
       "\"Two roads diverged in a yellow wood,\\nAnd sorry I could not travel both\\nAnd be one traveler, long I stood\\nAnd looked down one as far as I could\\nTo where it bent in the undergrowth;\\n\\nThen took the other, as just as fair,\\nAnd having perhaps the better claim,\\nBecause it was grassy and wanted wear;\\nThough as for that the passing there\\nHad worn them really about the same,\\n\\nAnd both that morning equally lay\\nIn leaves no step had trodden black.\\nOh, I kept the first for another day!\\nYet knowing how way leads on to way,\\nI doubted if I should ever come back.\\n\\nI shall be telling this with a sigh\\nSomewhere ages and ages hence:\\nTwo roads diverged in a wood, and I—\\nI took the one less traveled by,\\nAnd that has made all the difference.\\n\\nWhose woods these are I think I know.   \\nHis house is in the village though;   \\nHe will not see me stopping here   \\nTo watch his woods fill up with snow.   \\n\\nMy little horse must think it queer   \\nTo stop without a farmhouse near   \\nBetween the woods and frozen lake   \\nThe darkest evening of the year.   \\n\\nHe gives his harness bells a shake   \\nTo ask if there is some mistake.   \\nThe only other sound’s the sweep   \\nOf easy wind and downy flake.   \\n\\nThe woods are lovely, dark and deep,   \\nBut I have promises to keep,   \\nAnd miles to go before I sleep,   \\nAnd miles to go before I sleep.\\n\\nWhen I see birches bend to left and right\\nAcross the lines of straighter darker trees,\\nI like to think some boy's been swinging them.\\nBut swinging doesn't bend them down to stay\\nAs ice-storms do. Often you must have seen them\\nLoaded with ice a sunny winter morning\\nAfter a rain. They click upon themselves\\nAs the breeze rises, and turn many-colored\\nAs the stir cracks and crazes their enamel.\\nSoon the sun's warmth makes them shed crystal shells\\nShattering and avalanching on the snow-crust—\\nSuch heaps of broken glass to sweep away\\nYou'd think the inner dome of heaven had fallen.\\nThey are dragged to the withered bracken by the load,\\nAnd they seem not to break; though once they are bowed\\nSo low for long, they never right themselves:\\nYou may see their trunks arching in the woods\\nYears afterwards, trailing their leaves on the ground\\nLike girls on hands and knees that throw their hair\\nBefore them over their heads to dry in the sun.\\nBut I was going to say when Truth broke in\\nWith all her matter-of-fact about the ice-storm\\nI should prefer to have some boy bend them\\nAs he went out and in to fetch the cows—\\nSome boy too far from town to learn baseball,\\nWhose only play was what he found himself,\\nSummer or winter, and could play alone.\\nOne by one he subdued his father's trees\\nBy riding them down over and over again\\nUntil he took the stiffness out of them,\\nAnd not one but hung limp, not one was left\\nFor him to conquer. He learned all there was\\nTo learn about not launching out too soon\\nAnd so not carrying the tree away\\nClear to the ground. He always kept his poise\\nTo the top branches, climbing carefully\\nWith the same pains you use to fill a cup\\nUp to the brim, and even above the brim.\\nThen he flung outward, feet first, with a swish,\\nKicking his way down through the air to the ground.\\nSo was I once myself a swinger of birches.\\nAnd so I dream of going back to be.\\nIt's when I'm weary of considerations,\\nAnd life is too much like a pathless wood\\nWhere your face burns and tickles with the cobwebs\\nBroken across it, and one eye is weeping\\nFrom a twig's having lashed across it open.\\nI'd like to get away from earth awhile\\nAnd then come back to it and begin over.\\nMay no fate willfully misunderstand me\\nAnd half grant what I wish and snatch me away\\nNot to return. Earth's the right place for love:\\nI don't know where it's likely to go better.\\nI'd like to go by climbing a birch tree,\\nAnd climb black branches up a snow-white trunk\\nToward heaven, till the tree could bear no more,\\nBut dipped its top and set me down again.\\nThat would be good both going and coming back.\\nOne could do worse than be a swinger of birches.\\n\\nBefore man came to blow it right\\n     The wind once blew itself untaught,\\nAnd did its loudest day and night\\n     In any rough place where it caught.\\n \\nMan came to tell it what was wrong:\\n     It hadn’t found the place to blow;\\nIt blew too hard—the aim was song.\\n     And listen—how it ought to go!\\n \\nHe took a little in his mouth,\\n     And held it long enough for north\\nTo be converted into south,\\n     And then by measure blew it forth.\\n \\nBy measure. It was word and note,\\n     The wind the wind had meant to be—\\nA little through the lips and throat.\\n     The aim was song—the wind could see.\\n\\nThe city had withdrawn into itself\\nAnd left at last the country to the country;\\nWhen between whirls of snow not come to lie\\nAnd whirls of foliage not yet laid, there drove\\nA stranger to our yard, who looked the city,\\nYet did in country fashion in that there\\nHe sat and waited till he drew us out\\nA-buttoning coats to ask him who he was.\\nHe proved to be the city come again\\nTo look for something it had left behind\\nAnd could not do without and keep its Christmas.\\nHe asked if I would sell my Christmas trees;\\nMy woods—the young fir balsams like a place\\nWhere houses all are churches and have spires.\\nI hadn’t thought of them as Christmas Trees.\\nI doubt if I was tempted for a moment\\nTo sell them off their feet to go in cars\\nAnd leave the slope behind the house all bare,\\nWhere the sun shines now no warmer than the moon.\\nI’d hate to have them know it if I was.\\nYet more I’d hate to hold my trees except\\nAs others hold theirs or refuse for them,\\nBeyond the time of profitable growth,\\nThe trial by market everything must come to.\\nI dallied so much with the thought of selling.\\nThen whether from mistaken courtesy\\nAnd fear of seeming short of speech, or whether\\nFrom hope of hearing good of what was mine, I said,\\n“There aren’t enough to be worth while.”\\n“I could soon tell how many they would cut,\\nYou let me look them over.”\\n\\n                                                     “You could look.\\nBut don’t expect I’m going to let you have them.”\\nPasture they spring in, some in clumps too close\\nThat lop each other of boughs, but not a few\\nQuite solitary and having equal boughs\\nAll round and round. The latter he nodded “Yes” to,\\nOr paused to say beneath some lovelier one,\\nWith a buyer’s moderation, “That would do.”\\nI thought so too, but wasn’t there to say so.\\nWe climbed the pasture on the south, crossed over,\\nAnd came down on the north. He said, “A thousand.”\\n\\n“A thousand Christmas trees!—at what apiece?”\\n\\nHe felt some need of softening that to me:\\n“A thousand trees would come to thirty dollars.”\\n\\nThen I was certain I had never meant\\nTo let him have them. Never show surprise!\\nBut thirty dollars seemed so small beside\\nThe extent of pasture I should strip, three cents\\n(For that was all they figured out apiece),\\nThree cents so small beside the dollar friends\\nI should be writing to within the hour\\nWould pay in cities for good trees like those,\\nRegular vestry-trees whole Sunday Schools\\nCould hang enough on to pick off enough.\\nA thousand Christmas trees I didn’t know I had!\\nWorth three cents more to give away than sell,\\nAs may be shown by a simple calculation.\\nToo bad I couldn’t lay one in a letter.\\nI can’t help wishing I could send you one,\\nIn wishing you herewith a Merry Christmas.\""
      ]
     },
     "execution_count": 3,
     "metadata": {},
     "output_type": "execute_result"
    }
   ],
   "source": [
    "story_data"
   ]
  },
  {
   "cell_type": "code",
   "execution_count": 8,
   "id": "1fd20525",
   "metadata": {},
   "outputs": [
    {
     "name": "stdout",
     "output_type": "stream",
     "text": [
      "['two roads diverged in a yellow wood,', 'and sorry i could not travel both', 'and be one traveler, long i stood', 'and looked down one as far as i could', 'to where it bent in the undergrowth;', '', 'then took the other, as just as fair,', 'and having perhaps the better claim,', 'because it was grassy and wanted wear;', 'though as for that the passing there', 'had worn them really about the same,', '', 'and both that morning equally lay', 'in leaves no step had trodden black.', 'oh, i kept the first for another day!', 'yet knowing how way leads on to way,', 'i doubted if i should ever come back.', '', 'i shall be telling this with a sigh', 'somewhere ages and ages hence:', 'two roads diverged in a wood, and i—', 'i took the one less traveled by,', 'and that has made all the difference.', '', 'whose woods these are i think i know.   ', 'his house is in the village though;   ', 'he will not see me stopping here   ', 'to watch his woods fill up with snow.   ', '', 'my little horse must think it queer   ', 'to stop without a farmhouse near   ', 'between the woods and frozen lake   ', 'the darkest evening of the year.   ', '', 'he gives his harness bells a shake   ', 'to ask if there is some mistake.   ', 'the only other sound’s the sweep   ', 'of easy wind and downy flake.   ', '', 'the woods are lovely, dark and deep,   ', 'but i have promises to keep,   ', 'and miles to go before i sleep,   ', 'and miles to go before i sleep.', '', 'when i see birches bend to left and right', 'across the lines of straighter darker trees,', \"i like to think some boy's been swinging them.\", \"but swinging doesn't bend them down to stay\", 'as ice-storms do. often you must have seen them', 'loaded with ice a sunny winter morning', 'after a rain. they click upon themselves', 'as the breeze rises, and turn many-colored', 'as the stir cracks and crazes their enamel.', \"soon the sun's warmth makes them shed crystal shells\", 'shattering and avalanching on the snow-crust—', 'such heaps of broken glass to sweep away', \"you'd think the inner dome of heaven had fallen.\", 'they are dragged to the withered bracken by the load,', 'and they seem not to break; though once they are bowed', 'so low for long, they never right themselves:', 'you may see their trunks arching in the woods', 'years afterwards, trailing their leaves on the ground', 'like girls on hands and knees that throw their hair', 'before them over their heads to dry in the sun.', 'but i was going to say when truth broke in', 'with all her matter-of-fact about the ice-storm', 'i should prefer to have some boy bend them', 'as he went out and in to fetch the cows—', 'some boy too far from town to learn baseball,', 'whose only play was what he found himself,', 'summer or winter, and could play alone.', \"one by one he subdued his father's trees\", 'by riding them down over and over again', 'until he took the stiffness out of them,', 'and not one but hung limp, not one was left', 'for him to conquer. he learned all there was', 'to learn about not launching out too soon', 'and so not carrying the tree away', 'clear to the ground. he always kept his poise', 'to the top branches, climbing carefully', 'with the same pains you use to fill a cup', 'up to the brim, and even above the brim.', 'then he flung outward, feet first, with a swish,', 'kicking his way down through the air to the ground.', 'so was i once myself a swinger of birches.', 'and so i dream of going back to be.', \"it's when i'm weary of considerations,\", 'and life is too much like a pathless wood', 'where your face burns and tickles with the cobwebs', 'broken across it, and one eye is weeping', \"from a twig's having lashed across it open.\", \"i'd like to get away from earth awhile\", 'and then come back to it and begin over.', 'may no fate willfully misunderstand me', 'and half grant what i wish and snatch me away', \"not to return. earth's the right place for love:\", \"i don't know where it's likely to go better.\", \"i'd like to go by climbing a birch tree,\", 'and climb black branches up a snow-white trunk', 'toward heaven, till the tree could bear no more,', 'but dipped its top and set me down again.', 'that would be good both going and coming back.', 'one could do worse than be a swinger of birches.', '', 'before man came to blow it right', '     the wind once blew itself untaught,', 'and did its loudest day and night', '     in any rough place where it caught.', ' ', 'man came to tell it what was wrong:', '     it hadn’t found the place to blow;', 'it blew too hard—the aim was song.', '     and listen—how it ought to go!', ' ', 'he took a little in his mouth,', '     and held it long enough for north', 'to be converted into south,', '     and then by measure blew it forth.', ' ', 'by measure. it was word and note,', '     the wind the wind had meant to be—', 'a little through the lips and throat.', '     the aim was song—the wind could see.', '', 'the city had withdrawn into itself', 'and left at last the country to the country;', 'when between whirls of snow not come to lie', 'and whirls of foliage not yet laid, there drove', 'a stranger to our yard, who looked the city,', 'yet did in country fashion in that there', 'he sat and waited till he drew us out', 'a-buttoning coats to ask him who he was.', 'he proved to be the city come again', 'to look for something it had left behind', 'and could not do without and keep its christmas.', 'he asked if i would sell my christmas trees;', 'my woods—the young fir balsams like a place', 'where houses all are churches and have spires.', 'i hadn’t thought of them as christmas trees.', 'i doubt if i was tempted for a moment', 'to sell them off their feet to go in cars', 'and leave the slope behind the house all bare,', 'where the sun shines now no warmer than the moon.', 'i’d hate to have them know it if i was.', 'yet more i’d hate to hold my trees except', 'as others hold theirs or refuse for them,', 'beyond the time of profitable growth,', 'the trial by market everything must come to.', 'i dallied so much with the thought of selling.', 'then whether from mistaken courtesy', 'and fear of seeming short of speech, or whether', 'from hope of hearing good of what was mine, i said,', '“there aren’t enough to be worth while.”', '“i could soon tell how many they would cut,', 'you let me look them over.”', '', '                                                     “you could look.', 'but don’t expect i’m going to let you have them.”', 'pasture they spring in, some in clumps too close', 'that lop each other of boughs, but not a few', 'quite solitary and having equal boughs', 'all round and round. the latter he nodded “yes” to,', 'or paused to say beneath some lovelier one,', 'with a buyer’s moderation, “that would do.”', 'i thought so too, but wasn’t there to say so.', 'we climbed the pasture on the south, crossed over,', 'and came down on the north. he said, “a thousand.”', '', '“a thousand christmas trees!—at what apiece?”', '', 'he felt some need of softening that to me:', '“a thousand trees would come to thirty dollars.”', '', 'then i was certain i had never meant', 'to let him have them. never show surprise!', 'but thirty dollars seemed so small beside', 'the extent of pasture i should strip, three cents', '(for that was all they figured out apiece),', 'three cents so small beside the dollar friends', 'i should be writing to within the hour', 'would pay in cities for good trees like those,', 'regular vestry-trees whole sunday schools', 'could hang enough on to pick off enough.', 'a thousand christmas trees i didn’t know i had!', 'worth three cents more to give away than sell,', 'as may be shown by a simple calculation.', 'too bad i couldn’t lay one in a letter.', 'i can’t help wishing i could send you one,', 'in wishing you herewith a merry christmas.']\n",
      "\n",
      "two roads diverged in a yellow wood\n",
      "and sorry i could not travel both\n",
      "and be one traveler long i stood\n",
      "and looked down one as far as i could\n",
      "to where it bent in the undergrowth\n",
      "\n",
      "then took the other as just as fair\n",
      "and having perhaps the better claim\n",
      "because it was grassy and wanted wear\n",
      "though as for that the passing there\n",
      "had worn them really about the same\n",
      "\n",
      "and both that morning equally lay\n",
      "in leaves no step had trodden black\n",
      "oh i kept the first for another day!\n",
      "yet knowing how way leads on to way\n",
      "i doubted if i should ever come back\n",
      "\n",
      "i shall be telling this with a sigh\n",
      "somewhere ages and ages hence\n",
      "two roads diverged in a wood and i—\n",
      "i took the one less traveled by\n",
      "and that has made all the difference\n",
      "\n",
      "whose woods these are i think i know   \n",
      "his house is in the village though   \n",
      "he will not see me stopping here   \n",
      "to watch his woods fill up with snow   \n",
      "\n",
      "my little horse must think it queer   \n",
      "to stop without a farmhouse near   \n",
      "between the woods and frozen lake   \n",
      "the darkest evening of the year   \n",
      "\n",
      "he gives his harness bells a shake   \n",
      "to ask if there is some mistake   \n",
      "the only other sounds the sweep   \n",
      "of easy wind and downy flake   \n",
      "\n",
      "the woods are lovely dark and deep   \n",
      "but i have promises to keep   \n",
      "and miles to go before i sleep   \n",
      "and miles to go before i sleep\n",
      "\n",
      "when i see birches bend to left and right\n",
      "across the lines of straighter darker trees\n",
      "i like to think some boys been swinging them\n",
      "but swinging doesnt bend them down to stay\n",
      "as icestorms do often you must have seen them\n",
      "loaded with ice a sunny winter morning\n",
      "after a rain they click upon themselves\n",
      "as the breeze rises and turn manycolored\n",
      "as the stir cracks and crazes their enamel\n",
      "soon the suns warmth makes them shed crystal shells\n",
      "shattering and avalanching on the snowcrust—\n",
      "such heaps of broken glass to sweep away\n",
      "youd think the inner dome of heaven had fallen\n",
      "they are dragged to the withered bracken by the load\n",
      "and they seem not to break though once they are bowed\n",
      "so low for long they never right themselves\n",
      "you may see their trunks arching in the woods\n",
      "years afterwards trailing their leaves on the ground\n",
      "like girls on hands and knees that throw their hair\n",
      "before them over their heads to dry in the sun\n",
      "but i was going to say when truth broke in\n",
      "with all her matteroffact about the icestorm\n",
      "i should prefer to have some boy bend them\n",
      "as he went out and in to fetch the cows—\n",
      "some boy too far from town to learn baseball\n",
      "whose only play was what he found himself\n",
      "summer or winter and could play alone\n",
      "one by one he subdued his fathers trees\n",
      "by riding them down over and over again\n",
      "until he took the stiffness out of them\n",
      "and not one but hung limp not one was left\n",
      "for him to conquer he learned all there was\n",
      "to learn about not launching out too soon\n",
      "and so not carrying the tree away\n",
      "clear to the ground he always kept his poise\n",
      "to the top branches climbing carefully\n",
      "with the same pains you use to fill a cup\n",
      "up to the brim and even above the brim\n",
      "then he flung outward feet first with a swish\n",
      "kicking his way down through the air to the ground\n",
      "so was i once myself a swinger of birches\n",
      "and so i dream of going back to be\n",
      "its when im weary of considerations\n",
      "and life is too much like a pathless wood\n",
      "where your face burns and tickles with the cobwebs\n",
      "broken across it and one eye is weeping\n",
      "from a twigs having lashed across it open\n",
      "id like to get away from earth awhile\n",
      "and then come back to it and begin over\n",
      "may no fate willfully misunderstand me\n",
      "and half grant what i wish and snatch me away\n",
      "not to return earths the right place for love\n",
      "i dont know where its likely to go better\n",
      "id like to go by climbing a birch tree\n",
      "and climb black branches up a snowwhite trunk\n",
      "toward heaven till the tree could bear no more\n",
      "but dipped its top and set me down again\n",
      "that would be good both going and coming back\n",
      "one could do worse than be a swinger of birches\n",
      "\n",
      "before man came to blow it right\n",
      "     the wind once blew itself untaught\n",
      "and did its loudest day and night\n",
      "     in any rough place where it caught\n",
      " \n",
      "man came to tell it what was wrong\n",
      "     it hadnt found the place to blow\n",
      "it blew too hard—the aim was song\n",
      "     and listen—how it ought to go!\n",
      " \n",
      "he took a little in his mouth\n",
      "     and held it long enough for north\n",
      "to be converted into south\n",
      "     and then by measure blew it forth\n",
      " \n",
      "by measure it was word and note\n",
      "     the wind the wind had meant to be—\n",
      "a little through the lips and throat\n",
      "     the aim was song—the wind could see\n",
      "\n",
      "the city had withdrawn into itself\n",
      "and left at last the country to the country\n",
      "when between whirls of snow not come to lie\n",
      "and whirls of foliage not yet laid there drove\n",
      "a stranger to our yard who looked the city\n",
      "yet did in country fashion in that there\n",
      "he sat and waited till he drew us out\n",
      "abuttoning coats to ask him who he was\n",
      "he proved to be the city come again\n",
      "to look for something it had left behind\n",
      "and could not do without and keep its christmas\n",
      "he asked if i would sell my christmas trees\n",
      "my woods—the young fir balsams like a place\n",
      "where houses all are churches and have spires\n",
      "i hadnt thought of them as christmas trees\n",
      "i doubt if i was tempted for a moment\n",
      "to sell them off their feet to go in cars\n",
      "and leave the slope behind the house all bare\n",
      "where the sun shines now no warmer than the moon\n",
      "id hate to have them know it if i was\n",
      "yet more id hate to hold my trees except\n",
      "as others hold theirs or refuse for them\n",
      "beyond the time of profitable growth\n",
      "the trial by market everything must come to\n",
      "i dallied so much with the thought of selling\n",
      "then whether from mistaken courtesy\n",
      "and fear of seeming short of speech or whether\n",
      "from hope of hearing good of what was mine i said\n",
      "there arent enough to be worth while\n",
      "i could soon tell how many they would cut\n",
      "you let me look them over\n",
      "\n",
      "                                                     you could look\n",
      "but dont expect im going to let you have them\n",
      "pasture they spring in some in clumps too close\n",
      "that lop each other of boughs but not a few\n",
      "quite solitary and having equal boughs\n",
      "all round and round the latter he nodded yes to\n",
      "or paused to say beneath some lovelier one\n",
      "with a buyers moderation that would do\n",
      "i thought so too but wasnt there to say so\n",
      "we climbed the pasture on the south crossed over\n",
      "and came down on the north he said a thousand\n",
      "\n",
      "a thousand christmas trees!—at what apiece?\n",
      "\n",
      "he felt some need of softening that to me\n",
      "a thousand trees would come to thirty dollars\n",
      "\n",
      "then i was certain i had never meant\n",
      "to let him have them never show surprise!\n",
      "but thirty dollars seemed so small beside\n",
      "the extent of pasture i should strip three cents\n",
      "for that was all they figured out apiece\n",
      "three cents so small beside the dollar friends\n",
      "i should be writing to within the hour\n",
      "would pay in cities for good trees like those\n",
      "regular vestrytrees whole sunday schools\n",
      "could hang enough on to pick off enough\n",
      "a thousand christmas trees i didnt know i had!\n",
      "worth three cents more to give away than sell\n",
      "as may be shown by a simple calculation\n",
      "too bad i couldnt lay one in a letter\n",
      "i cant help wishing i could send you one\n",
      "in wishing you herewith a merry christmas\n",
      "['', 'two roads diverged in a yellow wood', 'and sorry i could not travel both', 'and be one traveler long i stood', 'and looked down one as far as i could', 'to where it bent in the undergrowth', '', 'then took the other as just as fair', 'and having perhaps the better claim', 'because it was grassy and wanted wear', 'though as for that the passing there', 'had worn them really about the same', '', 'and both that morning equally lay', 'in leaves no step had trodden black', 'oh i kept the first for another day!', 'yet knowing how way leads on to way', 'i doubted if i should ever come back', '', 'i shall be telling this with a sigh', 'somewhere ages and ages hence', 'two roads diverged in a wood and i—', 'i took the one less traveled by', 'and that has made all the difference', '', 'whose woods these are i think i know   ', 'his house is in the village though   ', 'he will not see me stopping here   ', 'to watch his woods fill up with snow   ', '', 'my little horse must think it queer   ', 'to stop without a farmhouse near   ', 'between the woods and frozen lake   ', 'the darkest evening of the year   ', '', 'he gives his harness bells a shake   ', 'to ask if there is some mistake   ', 'the only other sounds the sweep   ', 'of easy wind and downy flake   ', '', 'the woods are lovely dark and deep   ', 'but i have promises to keep   ', 'and miles to go before i sleep   ', 'and miles to go before i sleep', '', 'when i see birches bend to left and right', 'across the lines of straighter darker trees', 'i like to think some boys been swinging them', 'but swinging doesnt bend them down to stay', 'as icestorms do often you must have seen them', 'loaded with ice a sunny winter morning', 'after a rain they click upon themselves', 'as the breeze rises and turn manycolored', 'as the stir cracks and crazes their enamel', 'soon the suns warmth makes them shed crystal shells', 'shattering and avalanching on the snowcrust—', 'such heaps of broken glass to sweep away', 'youd think the inner dome of heaven had fallen', 'they are dragged to the withered bracken by the load', 'and they seem not to break though once they are bowed', 'so low for long they never right themselves', 'you may see their trunks arching in the woods', 'years afterwards trailing their leaves on the ground', 'like girls on hands and knees that throw their hair', 'before them over their heads to dry in the sun', 'but i was going to say when truth broke in', 'with all her matteroffact about the icestorm', 'i should prefer to have some boy bend them', 'as he went out and in to fetch the cows—', 'some boy too far from town to learn baseball', 'whose only play was what he found himself', 'summer or winter and could play alone', 'one by one he subdued his fathers trees', 'by riding them down over and over again', 'until he took the stiffness out of them', 'and not one but hung limp not one was left', 'for him to conquer he learned all there was', 'to learn about not launching out too soon', 'and so not carrying the tree away', 'clear to the ground he always kept his poise', 'to the top branches climbing carefully', 'with the same pains you use to fill a cup', 'up to the brim and even above the brim', 'then he flung outward feet first with a swish', 'kicking his way down through the air to the ground', 'so was i once myself a swinger of birches', 'and so i dream of going back to be', 'its when im weary of considerations', 'and life is too much like a pathless wood', 'where your face burns and tickles with the cobwebs', 'broken across it and one eye is weeping', 'from a twigs having lashed across it open', 'id like to get away from earth awhile', 'and then come back to it and begin over', 'may no fate willfully misunderstand me', 'and half grant what i wish and snatch me away', 'not to return earths the right place for love', 'i dont know where its likely to go better', 'id like to go by climbing a birch tree', 'and climb black branches up a snowwhite trunk', 'toward heaven till the tree could bear no more', 'but dipped its top and set me down again', 'that would be good both going and coming back', 'one could do worse than be a swinger of birches', '', 'before man came to blow it right', '     the wind once blew itself untaught', 'and did its loudest day and night', '     in any rough place where it caught', ' ', 'man came to tell it what was wrong', '     it hadnt found the place to blow', 'it blew too hard—the aim was song', '     and listen—how it ought to go!', ' ', 'he took a little in his mouth', '     and held it long enough for north', 'to be converted into south', '     and then by measure blew it forth', ' ', 'by measure it was word and note', '     the wind the wind had meant to be—', 'a little through the lips and throat', '     the aim was song—the wind could see', '', 'the city had withdrawn into itself', 'and left at last the country to the country', 'when between whirls of snow not come to lie', 'and whirls of foliage not yet laid there drove', 'a stranger to our yard who looked the city', 'yet did in country fashion in that there', 'he sat and waited till he drew us out', 'abuttoning coats to ask him who he was', 'he proved to be the city come again', 'to look for something it had left behind', 'and could not do without and keep its christmas', 'he asked if i would sell my christmas trees', 'my woods—the young fir balsams like a place', 'where houses all are churches and have spires', 'i hadnt thought of them as christmas trees', 'i doubt if i was tempted for a moment', 'to sell them off their feet to go in cars', 'and leave the slope behind the house all bare', 'where the sun shines now no warmer than the moon', 'id hate to have them know it if i was', 'yet more id hate to hold my trees except', 'as others hold theirs or refuse for them', 'beyond the time of profitable growth', 'the trial by market everything must come to', 'i dallied so much with the thought of selling', 'then whether from mistaken courtesy', 'and fear of seeming short of speech or whether', 'from hope of hearing good of what was mine i said', 'there arent enough to be worth while', 'i could soon tell how many they would cut', 'you let me look them over', '', '                                                     you could look', 'but dont expect im going to let you have them', 'pasture they spring in some in clumps too close', 'that lop each other of boughs but not a few', 'quite solitary and having equal boughs', 'all round and round the latter he nodded yes to', 'or paused to say beneath some lovelier one', 'with a buyers moderation that would do', 'i thought so too but wasnt there to say so', 'we climbed the pasture on the south crossed over', 'and came down on the north he said a thousand', '', 'a thousand christmas trees!—at what apiece?', '', 'he felt some need of softening that to me', 'a thousand trees would come to thirty dollars', '', 'then i was certain i had never meant', 'to let him have them never show surprise!', 'but thirty dollars seemed so small beside', 'the extent of pasture i should strip three cents', 'for that was all they figured out apiece', 'three cents so small beside the dollar friends', 'i should be writing to within the hour', 'would pay in cities for good trees like those', 'regular vestrytrees whole sunday schools', 'could hang enough on to pick off enough', 'a thousand christmas trees i didnt know i had!', 'worth three cents more to give away than sell', 'as may be shown by a simple calculation', 'too bad i couldnt lay one in a letter', 'i cant help wishing i could send you one', 'in wishing you herewith a merry christmas']\n"
     ]
    }
   ],
   "source": [
    "# data cleaning process\n",
    "import re                                # Regular expressions to use sub function for replacing the useless text from the data\n",
    "\n",
    "def clean_text(text):\n",
    "  text = re.sub(r',', '', text)\n",
    "  text = re.sub(r'\\'', '',  text)\n",
    "  text = re.sub(r'\\\"', '', text)\n",
    "  text = re.sub(r'\\(', '', text)\n",
    "  text = re.sub(r'\\)', '', text)\n",
    "  text = re.sub(r'\\n', '', text)\n",
    "  text = re.sub(r'“', '', text)\n",
    "  text = re.sub(r'”', '', text)\n",
    "  text = re.sub(r'’', '', text)\n",
    "  text = re.sub(r'\\.', '', text)\n",
    "  text = re.sub(r';', '', text)\n",
    "  text = re.sub(r':', '', text)\n",
    "  text = re.sub(r'\\-', '', text)\n",
    "\n",
    "  return text\n",
    "# cleaning the data\n",
    "lower_data = story_data.lower()           # Converting the string to lower case to get uniformity\n",
    "\n",
    "split_data = lower_data.splitlines()      # Splitting the data to get every line seperately but this will give the list of uncleaned data\n",
    "\n",
    "print(split_data)                         \n",
    "\n",
    "final = ''                                # initiating a argument with blank string to hold the values of final cleaned data\n",
    "\n",
    "for line in split_data:\n",
    "  line = clean_text(line)\n",
    "  final += '\\n' + line\n",
    "\n",
    "print(final)\n",
    "final_data = final.split('\\n')       # splitting again to get list of cleaned and splitted data ready to be processed\n",
    "print(final_data)\n",
    "\n"
   ]
  },
  {
   "cell_type": "code",
   "execution_count": 9,
   "id": "c9db1c42",
   "metadata": {},
   "outputs": [
    {
     "name": "stdout",
     "output_type": "stream",
     "text": [
      "['', 'two roads diverged in a yellow wood', 'and sorry i could not travel both', 'and be one traveler long i stood', 'and looked down one as far as i could', 'to where it bent in the undergrowth', '', 'then took the other as just as fair', 'and having perhaps the better claim', 'because it was grassy and wanted wear', 'though as for that the passing there', 'had worn them really about the same', '', 'and both that morning equally lay', 'in leaves no step had trodden black', 'oh i kept the first for another day!', 'yet knowing how way leads on to way', 'i doubted if i should ever come back', '', 'i shall be telling this with a sigh', 'somewhere ages and ages hence', 'two roads diverged in a wood and i—', 'i took the one less traveled by', 'and that has made all the difference', '', 'whose woods these are i think i know   ', 'his house is in the village though   ', 'he will not see me stopping here   ', 'to watch his woods fill up with snow   ', '', 'my little horse must think it queer   ', 'to stop without a farmhouse near   ', 'between the woods and frozen lake   ', 'the darkest evening of the year   ', '', 'he gives his harness bells a shake   ', 'to ask if there is some mistake   ', 'the only other sounds the sweep   ', 'of easy wind and downy flake   ', '', 'the woods are lovely dark and deep   ', 'but i have promises to keep   ', 'and miles to go before i sleep   ', 'and miles to go before i sleep', '', 'when i see birches bend to left and right', 'across the lines of straighter darker trees', 'i like to think some boys been swinging them', 'but swinging doesnt bend them down to stay', 'as icestorms do often you must have seen them', 'loaded with ice a sunny winter morning', 'after a rain they click upon themselves', 'as the breeze rises and turn manycolored', 'as the stir cracks and crazes their enamel', 'soon the suns warmth makes them shed crystal shells', 'shattering and avalanching on the snowcrust—', 'such heaps of broken glass to sweep away', 'youd think the inner dome of heaven had fallen', 'they are dragged to the withered bracken by the load', 'and they seem not to break though once they are bowed', 'so low for long they never right themselves', 'you may see their trunks arching in the woods', 'years afterwards trailing their leaves on the ground', 'like girls on hands and knees that throw their hair', 'before them over their heads to dry in the sun', 'but i was going to say when truth broke in', 'with all her matteroffact about the icestorm', 'i should prefer to have some boy bend them', 'as he went out and in to fetch the cows—', 'some boy too far from town to learn baseball', 'whose only play was what he found himself', 'summer or winter and could play alone', 'one by one he subdued his fathers trees', 'by riding them down over and over again', 'until he took the stiffness out of them', 'and not one but hung limp not one was left', 'for him to conquer he learned all there was', 'to learn about not launching out too soon', 'and so not carrying the tree away', 'clear to the ground he always kept his poise', 'to the top branches climbing carefully', 'with the same pains you use to fill a cup', 'up to the brim and even above the brim', 'then he flung outward feet first with a swish', 'kicking his way down through the air to the ground', 'so was i once myself a swinger of birches', 'and so i dream of going back to be', 'its when im weary of considerations', 'and life is too much like a pathless wood', 'where your face burns and tickles with the cobwebs', 'broken across it and one eye is weeping', 'from a twigs having lashed across it open', 'id like to get away from earth awhile', 'and then come back to it and begin over', 'may no fate willfully misunderstand me', 'and half grant what i wish and snatch me away', 'not to return earths the right place for love', 'i dont know where its likely to go better', 'id like to go by climbing a birch tree', 'and climb black branches up a snowwhite trunk', 'toward heaven till the tree could bear no more', 'but dipped its top and set me down again', 'that would be good both going and coming back', 'one could do worse than be a swinger of birches', '', 'before man came to blow it right', '     the wind once blew itself untaught', 'and did its loudest day and night', '     in any rough place where it caught', ' ', 'man came to tell it what was wrong', '     it hadnt found the place to blow', 'it blew too hard—the aim was song', '     and listen—how it ought to go!', ' ', 'he took a little in his mouth', '     and held it long enough for north', 'to be converted into south', '     and then by measure blew it forth', ' ', 'by measure it was word and note', '     the wind the wind had meant to be—', 'a little through the lips and throat', '     the aim was song—the wind could see', '', 'the city had withdrawn into itself', 'and left at last the country to the country', 'when between whirls of snow not come to lie', 'and whirls of foliage not yet laid there drove', 'a stranger to our yard who looked the city', 'yet did in country fashion in that there', 'he sat and waited till he drew us out', 'abuttoning coats to ask him who he was', 'he proved to be the city come again', 'to look for something it had left behind', 'and could not do without and keep its christmas', 'he asked if i would sell my christmas trees', 'my woods—the young fir balsams like a place', 'where houses all are churches and have spires', 'i hadnt thought of them as christmas trees', 'i doubt if i was tempted for a moment', 'to sell them off their feet to go in cars', 'and leave the slope behind the house all bare', 'where the sun shines now no warmer than the moon', 'id hate to have them know it if i was', 'yet more id hate to hold my trees except', 'as others hold theirs or refuse for them', 'beyond the time of profitable growth', 'the trial by market everything must come to', 'i dallied so much with the thought of selling', 'then whether from mistaken courtesy', 'and fear of seeming short of speech or whether', 'from hope of hearing good of what was mine i said', 'there arent enough to be worth while', 'i could soon tell how many they would cut', 'you let me look them over', '', '                                                     you could look', 'but dont expect im going to let you have them', 'pasture they spring in some in clumps too close', 'that lop each other of boughs but not a few', 'quite solitary and having equal boughs', 'all round and round the latter he nodded yes to', 'or paused to say beneath some lovelier one', 'with a buyers moderation that would do', 'i thought so too but wasnt there to say so', 'we climbed the pasture on the south crossed over', 'and came down on the north he said a thousand', '', 'a thousand christmas trees!—at what apiece?', '', 'he felt some need of softening that to me', 'a thousand trees would come to thirty dollars', '', 'then i was certain i had never meant', 'to let him have them never show surprise!', 'but thirty dollars seemed so small beside', 'the extent of pasture i should strip three cents', 'for that was all they figured out apiece', 'three cents so small beside the dollar friends', 'i should be writing to within the hour', 'would pay in cities for good trees like those', 'regular vestrytrees whole sunday schools', 'could hang enough on to pick off enough', 'a thousand christmas trees i didnt know i had!', 'worth three cents more to give away than sell', 'as may be shown by a simple calculation', 'too bad i couldnt lay one in a letter', 'i cant help wishing i could send you one', 'in wishing you herewith a merry christmas']\n"
     ]
    }
   ],
   "source": [
    "final_data = final.split('\\n')       # splitting again to get list of cleaned and splitted data ready to be processed\n",
    "print(final_data)"
   ]
  },
  {
   "cell_type": "code",
   "execution_count": 10,
   "id": "743f1695",
   "metadata": {},
   "outputs": [],
   "source": [
    "from tensorflow.keras.preprocessing.text import Tokenizer\n",
    "from tensorflow.keras.preprocessing.sequence import pad_sequences"
   ]
  },
  {
   "cell_type": "code",
   "execution_count": 11,
   "id": "4c0359ff",
   "metadata": {},
   "outputs": [],
   "source": [
    "# Instantiating the Tokenizer\n",
    "max_vocab = 1000000\n",
    "tokenizer = Tokenizer(num_words=max_vocab)\n",
    "tokenizer.fit_on_texts(final_data)\n"
   ]
  },
  {
   "cell_type": "code",
   "execution_count": 12,
   "id": "723de61a",
   "metadata": {},
   "outputs": [
    {
     "name": "stdout",
     "output_type": "stream",
     "text": [
      "544\n",
      "{'the': 1, 'to': 2, 'and': 3, 'i': 4, 'a': 5, 'of': 6, 'in': 7, 'he': 8, 'it': 9, 'was': 10, 'them': 11, 'not': 12, 'one': 13, 'as': 14, 'could': 15, 'for': 16, 'be': 17, 'that': 18, 'with': 19, 'by': 20, 'but': 21, 'trees': 22, 'so': 23, 'had': 24, 'you': 25, 'they': 26, 'there': 27, 'on': 28, 'all': 29, 'his': 30, 'some': 31, 'have': 32, 'like': 33, 'too': 34, 'down': 35, 'where': 36, 'then': 37, 'come': 38, 'me': 39, 'go': 40, 'their': 41, 'over': 42, 'would': 43, 'christmas': 44, 'if': 45, 'woods': 46, 'are': 47, 'wind': 48, 'away': 49, 'out': 50, 'from': 51, 'what': 52, 'its': 53, 'took': 54, 'no': 55, 'yet': 56, 'should': 57, 'back': 58, 'think': 59, 'know': 60, 'is': 61, 'see': 62, 'my': 63, 'before': 64, 'when': 65, 'left': 66, 'right': 67, 'do': 68, 'going': 69, 'or': 70, 'id': 71, 'place': 72, 'enough': 73, 'thousand': 74, 'wood': 75, 'both': 76, 'long': 77, 'other': 78, 'having': 79, 'though': 80, 'about': 81, 'way': 82, 'up': 83, 'little': 84, 'must': 85, 'birches': 86, 'bend': 87, 'across': 88, 'soon': 89, 'once': 90, 'never': 91, 'may': 92, 'ground': 93, 'say': 94, 'again': 95, 'him': 96, 'tree': 97, 'more': 98, 'good': 99, 'than': 100, 'came': 101, 'blew': 102, 'city': 103, 'country': 104, 'look': 105, 'sell': 106, 'thought': 107, 'let': 108, 'pasture': 109, 'three': 110, 'cents': 111, 'two': 112, 'roads': 113, 'diverged': 114, 'looked': 115, 'far': 116, 'better': 117, 'same': 118, 'morning': 119, 'lay': 120, 'leaves': 121, 'black': 122, 'kept': 123, 'first': 124, 'day': 125, 'how': 126, 'ages': 127, 'whose': 128, 'house': 129, 'fill': 130, 'snow': 131, 'without': 132, 'between': 133, 'ask': 134, 'only': 135, 'sweep': 136, 'keep': 137, 'miles': 138, 'sleep': 139, 'swinging': 140, 'winter': 141, 'themselves': 142, 'broken': 143, 'heaven': 144, 'sun': 145, 'boy': 146, 'learn': 147, 'play': 148, 'found': 149, 'top': 150, 'branches': 151, 'climbing': 152, 'brim': 153, 'feet': 154, 'through': 155, 'swinger': 156, 'im': 157, 'much': 158, 'dont': 159, 'till': 160, 'man': 161, 'blow': 162, 'itself': 163, 'did': 164, 'tell': 165, 'hadnt': 166, 'aim': 167, 'north': 168, 'into': 169, 'south': 170, 'measure': 171, 'meant': 172, 'whirls': 173, 'who': 174, 'behind': 175, 'off': 176, 'hate': 177, 'hold': 178, 'whether': 179, 'said': 180, 'worth': 181, 'boughs': 182, 'round': 183, 'apiece': 184, 'thirty': 185, 'dollars': 186, 'small': 187, 'beside': 188, 'wishing': 189, 'yellow': 190, 'sorry': 191, 'travel': 192, 'traveler': 193, 'stood': 194, 'bent': 195, 'undergrowth': 196, 'just': 197, 'fair': 198, 'perhaps': 199, 'claim': 200, 'because': 201, 'grassy': 202, 'wanted': 203, 'wear': 204, 'passing': 205, 'worn': 206, 'really': 207, 'equally': 208, 'step': 209, 'trodden': 210, 'oh': 211, 'another': 212, 'knowing': 213, 'leads': 214, 'doubted': 215, 'ever': 216, 'shall': 217, 'telling': 218, 'this': 219, 'sigh': 220, 'somewhere': 221, 'hence': 222, 'i—': 223, 'less': 224, 'traveled': 225, 'has': 226, 'made': 227, 'difference': 228, 'these': 229, 'village': 230, 'will': 231, 'stopping': 232, 'here': 233, 'watch': 234, 'horse': 235, 'queer': 236, 'stop': 237, 'farmhouse': 238, 'near': 239, 'frozen': 240, 'lake': 241, 'darkest': 242, 'evening': 243, 'year': 244, 'gives': 245, 'harness': 246, 'bells': 247, 'shake': 248, 'mistake': 249, 'sounds': 250, 'easy': 251, 'downy': 252, 'flake': 253, 'lovely': 254, 'dark': 255, 'deep': 256, 'promises': 257, 'lines': 258, 'straighter': 259, 'darker': 260, 'boys': 261, 'been': 262, 'doesnt': 263, 'stay': 264, 'icestorms': 265, 'often': 266, 'seen': 267, 'loaded': 268, 'ice': 269, 'sunny': 270, 'after': 271, 'rain': 272, 'click': 273, 'upon': 274, 'breeze': 275, 'rises': 276, 'turn': 277, 'manycolored': 278, 'stir': 279, 'cracks': 280, 'crazes': 281, 'enamel': 282, 'suns': 283, 'warmth': 284, 'makes': 285, 'shed': 286, 'crystal': 287, 'shells': 288, 'shattering': 289, 'avalanching': 290, 'snowcrust—': 291, 'such': 292, 'heaps': 293, 'glass': 294, 'youd': 295, 'inner': 296, 'dome': 297, 'fallen': 298, 'dragged': 299, 'withered': 300, 'bracken': 301, 'load': 302, 'seem': 303, 'break': 304, 'bowed': 305, 'low': 306, 'trunks': 307, 'arching': 308, 'years': 309, 'afterwards': 310, 'trailing': 311, 'girls': 312, 'hands': 313, 'knees': 314, 'throw': 315, 'hair': 316, 'heads': 317, 'dry': 318, 'truth': 319, 'broke': 320, 'her': 321, 'matteroffact': 322, 'icestorm': 323, 'prefer': 324, 'went': 325, 'fetch': 326, 'cows—': 327, 'town': 328, 'baseball': 329, 'himself': 330, 'summer': 331, 'alone': 332, 'subdued': 333, 'fathers': 334, 'riding': 335, 'until': 336, 'stiffness': 337, 'hung': 338, 'limp': 339, 'conquer': 340, 'learned': 341, 'launching': 342, 'carrying': 343, 'clear': 344, 'always': 345, 'poise': 346, 'carefully': 347, 'pains': 348, 'use': 349, 'cup': 350, 'even': 351, 'above': 352, 'flung': 353, 'outward': 354, 'swish': 355, 'kicking': 356, 'air': 357, 'myself': 358, 'dream': 359, 'weary': 360, 'considerations': 361, 'life': 362, 'pathless': 363, 'your': 364, 'face': 365, 'burns': 366, 'tickles': 367, 'cobwebs': 368, 'eye': 369, 'weeping': 370, 'twigs': 371, 'lashed': 372, 'open': 373, 'get': 374, 'earth': 375, 'awhile': 376, 'begin': 377, 'fate': 378, 'willfully': 379, 'misunderstand': 380, 'half': 381, 'grant': 382, 'wish': 383, 'snatch': 384, 'return': 385, 'earths': 386, 'love': 387, 'likely': 388, 'birch': 389, 'climb': 390, 'snowwhite': 391, 'trunk': 392, 'toward': 393, 'bear': 394, 'dipped': 395, 'set': 396, 'coming': 397, 'worse': 398, 'untaught': 399, 'loudest': 400, 'night': 401, 'any': 402, 'rough': 403, 'caught': 404, 'wrong': 405, 'hard—the': 406, 'song': 407, 'listen—how': 408, 'ought': 409, 'mouth': 410, 'held': 411, 'converted': 412, 'forth': 413, 'word': 414, 'note': 415, 'be—': 416, 'lips': 417, 'throat': 418, 'song—the': 419, 'withdrawn': 420, 'at': 421, 'last': 422, 'lie': 423, 'foliage': 424, 'laid': 425, 'drove': 426, 'stranger': 427, 'our': 428, 'yard': 429, 'fashion': 430, 'sat': 431, 'waited': 432, 'drew': 433, 'us': 434, 'abuttoning': 435, 'coats': 436, 'proved': 437, 'something': 438, 'asked': 439, 'woods—the': 440, 'young': 441, 'fir': 442, 'balsams': 443, 'houses': 444, 'churches': 445, 'spires': 446, 'doubt': 447, 'tempted': 448, 'moment': 449, 'cars': 450, 'leave': 451, 'slope': 452, 'bare': 453, 'shines': 454, 'now': 455, 'warmer': 456, 'moon': 457, 'except': 458, 'others': 459, 'theirs': 460, 'refuse': 461, 'beyond': 462, 'time': 463, 'profitable': 464, 'growth': 465, 'trial': 466, 'market': 467, 'everything': 468, 'dallied': 469, 'selling': 470, 'mistaken': 471, 'courtesy': 472, 'fear': 473, 'seeming': 474, 'short': 475, 'speech': 476, 'hope': 477, 'hearing': 478, 'mine': 479, 'arent': 480, 'while': 481, 'many': 482, 'cut': 483, 'expect': 484, 'spring': 485, 'clumps': 486, 'close': 487, 'lop': 488, 'each': 489, 'few': 490, 'quite': 491, 'solitary': 492, 'equal': 493, 'latter': 494, 'nodded': 495, 'yes': 496, 'paused': 497, 'beneath': 498, 'lovelier': 499, 'buyers': 500, 'moderation': 501, 'wasnt': 502, 'we': 503, 'climbed': 504, 'crossed': 505, '—at': 506, 'felt': 507, 'need': 508, 'softening': 509, 'certain': 510, 'show': 511, 'surprise': 512, 'seemed': 513, 'extent': 514, 'strip': 515, 'figured': 516, 'dollar': 517, 'friends': 518, 'writing': 519, 'within': 520, 'hour': 521, 'pay': 522, 'cities': 523, 'those': 524, 'regular': 525, 'vestrytrees': 526, 'whole': 527, 'sunday': 528, 'schools': 529, 'hang': 530, 'pick': 531, 'didnt': 532, 'give': 533, 'shown': 534, 'simple': 535, 'calculation': 536, 'bad': 537, 'couldnt': 538, 'letter': 539, 'cant': 540, 'help': 541, 'send': 542, 'herewith': 543, 'merry': 544}\n",
      "545\n"
     ]
    }
   ],
   "source": [
    "# Instantiating the Tokenizer\n",
    "max_vocab = 1000000\n",
    "tokenizer = Tokenizer(num_words=max_vocab)\n",
    "tokenizer.fit_on_texts(final_data)\n",
    "\n",
    "# Getting the total number of words of the data.\n",
    "word2idx = tokenizer.word_index\n",
    "print(len(word2idx))\n",
    "print(word2idx)\n",
    "vocab_size = len(word2idx) + 1        # Adding 1 to the vocab_size because the index starts from 1 not 0. This will make it uniform when using it further\n",
    "print(vocab_size)"
   ]
  },
  {
   "cell_type": "code",
   "execution_count": 13,
   "id": "e75f69b7",
   "metadata": {},
   "outputs": [
    {
     "name": "stdout",
     "output_type": "stream",
     "text": [
      "[[112, 113], [112, 113, 114], [112, 113, 114, 7], [112, 113, 114, 7, 5], [112, 113, 114, 7, 5, 190], [112, 113, 114, 7, 5, 190, 75], [3, 191], [3, 191, 4], [3, 191, 4, 15], [3, 191, 4, 15, 12], [3, 191, 4, 15, 12, 192], [3, 191, 4, 15, 12, 192, 76], [3, 17], [3, 17, 13], [3, 17, 13, 193], [3, 17, 13, 193, 77], [3, 17, 13, 193, 77, 4], [3, 17, 13, 193, 77, 4, 194], [3, 115], [3, 115, 35], [3, 115, 35, 13], [3, 115, 35, 13, 14], [3, 115, 35, 13, 14, 116], [3, 115, 35, 13, 14, 116, 14], [3, 115, 35, 13, 14, 116, 14, 4], [3, 115, 35, 13, 14, 116, 14, 4, 15], [2, 36], [2, 36, 9], [2, 36, 9, 195], [2, 36, 9, 195, 7], [2, 36, 9, 195, 7, 1], [2, 36, 9, 195, 7, 1, 196], [37, 54], [37, 54, 1], [37, 54, 1, 78], [37, 54, 1, 78, 14], [37, 54, 1, 78, 14, 197], [37, 54, 1, 78, 14, 197, 14], [37, 54, 1, 78, 14, 197, 14, 198], [3, 79], [3, 79, 199], [3, 79, 199, 1], [3, 79, 199, 1, 117], [3, 79, 199, 1, 117, 200], [201, 9], [201, 9, 10], [201, 9, 10, 202], [201, 9, 10, 202, 3], [201, 9, 10, 202, 3, 203], [201, 9, 10, 202, 3, 203, 204], [80, 14], [80, 14, 16], [80, 14, 16, 18], [80, 14, 16, 18, 1], [80, 14, 16, 18, 1, 205], [80, 14, 16, 18, 1, 205, 27], [24, 206], [24, 206, 11], [24, 206, 11, 207], [24, 206, 11, 207, 81], [24, 206, 11, 207, 81, 1], [24, 206, 11, 207, 81, 1, 118], [3, 76], [3, 76, 18], [3, 76, 18, 119], [3, 76, 18, 119, 208], [3, 76, 18, 119, 208, 120], [7, 121], [7, 121, 55], [7, 121, 55, 209], [7, 121, 55, 209, 24], [7, 121, 55, 209, 24, 210], [7, 121, 55, 209, 24, 210, 122], [211, 4], [211, 4, 123], [211, 4, 123, 1], [211, 4, 123, 1, 124], [211, 4, 123, 1, 124, 16], [211, 4, 123, 1, 124, 16, 212], [211, 4, 123, 1, 124, 16, 212, 125], [56, 213], [56, 213, 126], [56, 213, 126, 82], [56, 213, 126, 82, 214], [56, 213, 126, 82, 214, 28], [56, 213, 126, 82, 214, 28, 2], [56, 213, 126, 82, 214, 28, 2, 82], [4, 215], [4, 215, 45], [4, 215, 45, 4], [4, 215, 45, 4, 57], [4, 215, 45, 4, 57, 216], [4, 215, 45, 4, 57, 216, 38], [4, 215, 45, 4, 57, 216, 38, 58], [4, 217], [4, 217, 17], [4, 217, 17, 218], [4, 217, 17, 218, 219], [4, 217, 17, 218, 219, 19], [4, 217, 17, 218, 219, 19, 5], [4, 217, 17, 218, 219, 19, 5, 220], [221, 127], [221, 127, 3], [221, 127, 3, 127], [221, 127, 3, 127, 222], [112, 113], [112, 113, 114], [112, 113, 114, 7], [112, 113, 114, 7, 5], [112, 113, 114, 7, 5, 75], [112, 113, 114, 7, 5, 75, 3], [112, 113, 114, 7, 5, 75, 3, 223], [4, 54], [4, 54, 1], [4, 54, 1, 13], [4, 54, 1, 13, 224], [4, 54, 1, 13, 224, 225], [4, 54, 1, 13, 224, 225, 20], [3, 18], [3, 18, 226], [3, 18, 226, 227], [3, 18, 226, 227, 29], [3, 18, 226, 227, 29, 1], [3, 18, 226, 227, 29, 1, 228], [128, 46], [128, 46, 229], [128, 46, 229, 47], [128, 46, 229, 47, 4], [128, 46, 229, 47, 4, 59], [128, 46, 229, 47, 4, 59, 4], [128, 46, 229, 47, 4, 59, 4, 60], [30, 129], [30, 129, 61], [30, 129, 61, 7], [30, 129, 61, 7, 1], [30, 129, 61, 7, 1, 230], [30, 129, 61, 7, 1, 230, 80], [8, 231], [8, 231, 12], [8, 231, 12, 62], [8, 231, 12, 62, 39], [8, 231, 12, 62, 39, 232], [8, 231, 12, 62, 39, 232, 233], [2, 234], [2, 234, 30], [2, 234, 30, 46], [2, 234, 30, 46, 130], [2, 234, 30, 46, 130, 83], [2, 234, 30, 46, 130, 83, 19], [2, 234, 30, 46, 130, 83, 19, 131], [63, 84], [63, 84, 235], [63, 84, 235, 85], [63, 84, 235, 85, 59], [63, 84, 235, 85, 59, 9], [63, 84, 235, 85, 59, 9, 236], [2, 237], [2, 237, 132], [2, 237, 132, 5], [2, 237, 132, 5, 238], [2, 237, 132, 5, 238, 239], [133, 1], [133, 1, 46], [133, 1, 46, 3], [133, 1, 46, 3, 240], [133, 1, 46, 3, 240, 241], [1, 242], [1, 242, 243], [1, 242, 243, 6], [1, 242, 243, 6, 1], [1, 242, 243, 6, 1, 244], [8, 245], [8, 245, 30], [8, 245, 30, 246], [8, 245, 30, 246, 247], [8, 245, 30, 246, 247, 5], [8, 245, 30, 246, 247, 5, 248], [2, 134], [2, 134, 45], [2, 134, 45, 27], [2, 134, 45, 27, 61], [2, 134, 45, 27, 61, 31], [2, 134, 45, 27, 61, 31, 249], [1, 135], [1, 135, 78], [1, 135, 78, 250], [1, 135, 78, 250, 1], [1, 135, 78, 250, 1, 136], [6, 251], [6, 251, 48], [6, 251, 48, 3], [6, 251, 48, 3, 252], [6, 251, 48, 3, 252, 253], [1, 46], [1, 46, 47], [1, 46, 47, 254], [1, 46, 47, 254, 255], [1, 46, 47, 254, 255, 3], [1, 46, 47, 254, 255, 3, 256], [21, 4], [21, 4, 32], [21, 4, 32, 257], [21, 4, 32, 257, 2], [21, 4, 32, 257, 2, 137], [3, 138], [3, 138, 2], [3, 138, 2, 40], [3, 138, 2, 40, 64], [3, 138, 2, 40, 64, 4], [3, 138, 2, 40, 64, 4, 139], [3, 138], [3, 138, 2], [3, 138, 2, 40], [3, 138, 2, 40, 64], [3, 138, 2, 40, 64, 4], [3, 138, 2, 40, 64, 4, 139], [65, 4], [65, 4, 62], [65, 4, 62, 86], [65, 4, 62, 86, 87], [65, 4, 62, 86, 87, 2], [65, 4, 62, 86, 87, 2, 66], [65, 4, 62, 86, 87, 2, 66, 3], [65, 4, 62, 86, 87, 2, 66, 3, 67], [88, 1], [88, 1, 258], [88, 1, 258, 6], [88, 1, 258, 6, 259], [88, 1, 258, 6, 259, 260], [88, 1, 258, 6, 259, 260, 22], [4, 33], [4, 33, 2], [4, 33, 2, 59], [4, 33, 2, 59, 31], [4, 33, 2, 59, 31, 261], [4, 33, 2, 59, 31, 261, 262], [4, 33, 2, 59, 31, 261, 262, 140], [4, 33, 2, 59, 31, 261, 262, 140, 11], [21, 140], [21, 140, 263], [21, 140, 263, 87], [21, 140, 263, 87, 11], [21, 140, 263, 87, 11, 35], [21, 140, 263, 87, 11, 35, 2], [21, 140, 263, 87, 11, 35, 2, 264], [14, 265], [14, 265, 68], [14, 265, 68, 266], [14, 265, 68, 266, 25], [14, 265, 68, 266, 25, 85], [14, 265, 68, 266, 25, 85, 32], [14, 265, 68, 266, 25, 85, 32, 267], [14, 265, 68, 266, 25, 85, 32, 267, 11], [268, 19], [268, 19, 269], [268, 19, 269, 5], [268, 19, 269, 5, 270], [268, 19, 269, 5, 270, 141], [268, 19, 269, 5, 270, 141, 119], [271, 5], [271, 5, 272], [271, 5, 272, 26], [271, 5, 272, 26, 273], [271, 5, 272, 26, 273, 274], [271, 5, 272, 26, 273, 274, 142], [14, 1], [14, 1, 275], [14, 1, 275, 276], [14, 1, 275, 276, 3], [14, 1, 275, 276, 3, 277], [14, 1, 275, 276, 3, 277, 278], [14, 1], [14, 1, 279], [14, 1, 279, 280], [14, 1, 279, 280, 3], [14, 1, 279, 280, 3, 281], [14, 1, 279, 280, 3, 281, 41], [14, 1, 279, 280, 3, 281, 41, 282], [89, 1], [89, 1, 283], [89, 1, 283, 284], [89, 1, 283, 284, 285], [89, 1, 283, 284, 285, 11], [89, 1, 283, 284, 285, 11, 286], [89, 1, 283, 284, 285, 11, 286, 287], [89, 1, 283, 284, 285, 11, 286, 287, 288], [289, 3], [289, 3, 290], [289, 3, 290, 28], [289, 3, 290, 28, 1], [289, 3, 290, 28, 1, 291], [292, 293], [292, 293, 6], [292, 293, 6, 143], [292, 293, 6, 143, 294], [292, 293, 6, 143, 294, 2], [292, 293, 6, 143, 294, 2, 136], [292, 293, 6, 143, 294, 2, 136, 49], [295, 59], [295, 59, 1], [295, 59, 1, 296], [295, 59, 1, 296, 297], [295, 59, 1, 296, 297, 6], [295, 59, 1, 296, 297, 6, 144], [295, 59, 1, 296, 297, 6, 144, 24], [295, 59, 1, 296, 297, 6, 144, 24, 298], [26, 47], [26, 47, 299], [26, 47, 299, 2], [26, 47, 299, 2, 1], [26, 47, 299, 2, 1, 300], [26, 47, 299, 2, 1, 300, 301], [26, 47, 299, 2, 1, 300, 301, 20], [26, 47, 299, 2, 1, 300, 301, 20, 1], [26, 47, 299, 2, 1, 300, 301, 20, 1, 302], [3, 26], [3, 26, 303], [3, 26, 303, 12], [3, 26, 303, 12, 2], [3, 26, 303, 12, 2, 304], [3, 26, 303, 12, 2, 304, 80], [3, 26, 303, 12, 2, 304, 80, 90], [3, 26, 303, 12, 2, 304, 80, 90, 26], [3, 26, 303, 12, 2, 304, 80, 90, 26, 47], [3, 26, 303, 12, 2, 304, 80, 90, 26, 47, 305], [23, 306], [23, 306, 16], [23, 306, 16, 77], [23, 306, 16, 77, 26], [23, 306, 16, 77, 26, 91], [23, 306, 16, 77, 26, 91, 67], [23, 306, 16, 77, 26, 91, 67, 142], [25, 92], [25, 92, 62], [25, 92, 62, 41], [25, 92, 62, 41, 307], [25, 92, 62, 41, 307, 308], [25, 92, 62, 41, 307, 308, 7], [25, 92, 62, 41, 307, 308, 7, 1], [25, 92, 62, 41, 307, 308, 7, 1, 46], [309, 310], [309, 310, 311], [309, 310, 311, 41], [309, 310, 311, 41, 121], [309, 310, 311, 41, 121, 28], [309, 310, 311, 41, 121, 28, 1], [309, 310, 311, 41, 121, 28, 1, 93], [33, 312], [33, 312, 28], [33, 312, 28, 313], [33, 312, 28, 313, 3], [33, 312, 28, 313, 3, 314], [33, 312, 28, 313, 3, 314, 18], [33, 312, 28, 313, 3, 314, 18, 315], [33, 312, 28, 313, 3, 314, 18, 315, 41], [33, 312, 28, 313, 3, 314, 18, 315, 41, 316], [64, 11], [64, 11, 42], [64, 11, 42, 41], [64, 11, 42, 41, 317], [64, 11, 42, 41, 317, 2], [64, 11, 42, 41, 317, 2, 318], [64, 11, 42, 41, 317, 2, 318, 7], [64, 11, 42, 41, 317, 2, 318, 7, 1], [64, 11, 42, 41, 317, 2, 318, 7, 1, 145], [21, 4], [21, 4, 10], [21, 4, 10, 69], [21, 4, 10, 69, 2], [21, 4, 10, 69, 2, 94], [21, 4, 10, 69, 2, 94, 65], [21, 4, 10, 69, 2, 94, 65, 319], [21, 4, 10, 69, 2, 94, 65, 319, 320], [21, 4, 10, 69, 2, 94, 65, 319, 320, 7], [19, 29], [19, 29, 321], [19, 29, 321, 322], [19, 29, 321, 322, 81], [19, 29, 321, 322, 81, 1], [19, 29, 321, 322, 81, 1, 323], [4, 57], [4, 57, 324], [4, 57, 324, 2], [4, 57, 324, 2, 32], [4, 57, 324, 2, 32, 31], [4, 57, 324, 2, 32, 31, 146], [4, 57, 324, 2, 32, 31, 146, 87], [4, 57, 324, 2, 32, 31, 146, 87, 11], [14, 8], [14, 8, 325], [14, 8, 325, 50], [14, 8, 325, 50, 3], [14, 8, 325, 50, 3, 7], [14, 8, 325, 50, 3, 7, 2], [14, 8, 325, 50, 3, 7, 2, 326], [14, 8, 325, 50, 3, 7, 2, 326, 1], [14, 8, 325, 50, 3, 7, 2, 326, 1, 327], [31, 146], [31, 146, 34], [31, 146, 34, 116], [31, 146, 34, 116, 51], [31, 146, 34, 116, 51, 328], [31, 146, 34, 116, 51, 328, 2], [31, 146, 34, 116, 51, 328, 2, 147], [31, 146, 34, 116, 51, 328, 2, 147, 329], [128, 135], [128, 135, 148], [128, 135, 148, 10], [128, 135, 148, 10, 52], [128, 135, 148, 10, 52, 8], [128, 135, 148, 10, 52, 8, 149], [128, 135, 148, 10, 52, 8, 149, 330], [331, 70], [331, 70, 141], [331, 70, 141, 3], [331, 70, 141, 3, 15], [331, 70, 141, 3, 15, 148], [331, 70, 141, 3, 15, 148, 332], [13, 20], [13, 20, 13], [13, 20, 13, 8], [13, 20, 13, 8, 333], [13, 20, 13, 8, 333, 30], [13, 20, 13, 8, 333, 30, 334], [13, 20, 13, 8, 333, 30, 334, 22], [20, 335], [20, 335, 11], [20, 335, 11, 35], [20, 335, 11, 35, 42], [20, 335, 11, 35, 42, 3], [20, 335, 11, 35, 42, 3, 42], [20, 335, 11, 35, 42, 3, 42, 95], [336, 8], [336, 8, 54], [336, 8, 54, 1], [336, 8, 54, 1, 337], [336, 8, 54, 1, 337, 50], [336, 8, 54, 1, 337, 50, 6], [336, 8, 54, 1, 337, 50, 6, 11], [3, 12], [3, 12, 13], [3, 12, 13, 21], [3, 12, 13, 21, 338], [3, 12, 13, 21, 338, 339], [3, 12, 13, 21, 338, 339, 12], [3, 12, 13, 21, 338, 339, 12, 13], [3, 12, 13, 21, 338, 339, 12, 13, 10], [3, 12, 13, 21, 338, 339, 12, 13, 10, 66], [16, 96], [16, 96, 2], [16, 96, 2, 340], [16, 96, 2, 340, 8], [16, 96, 2, 340, 8, 341], [16, 96, 2, 340, 8, 341, 29], [16, 96, 2, 340, 8, 341, 29, 27], [16, 96, 2, 340, 8, 341, 29, 27, 10], [2, 147], [2, 147, 81], [2, 147, 81, 12], [2, 147, 81, 12, 342], [2, 147, 81, 12, 342, 50], [2, 147, 81, 12, 342, 50, 34], [2, 147, 81, 12, 342, 50, 34, 89], [3, 23], [3, 23, 12], [3, 23, 12, 343], [3, 23, 12, 343, 1], [3, 23, 12, 343, 1, 97], [3, 23, 12, 343, 1, 97, 49], [344, 2], [344, 2, 1], [344, 2, 1, 93], [344, 2, 1, 93, 8], [344, 2, 1, 93, 8, 345], [344, 2, 1, 93, 8, 345, 123], [344, 2, 1, 93, 8, 345, 123, 30], [344, 2, 1, 93, 8, 345, 123, 30, 346], [2, 1], [2, 1, 150], [2, 1, 150, 151], [2, 1, 150, 151, 152], [2, 1, 150, 151, 152, 347], [19, 1], [19, 1, 118], [19, 1, 118, 348], [19, 1, 118, 348, 25], [19, 1, 118, 348, 25, 349], [19, 1, 118, 348, 25, 349, 2], [19, 1, 118, 348, 25, 349, 2, 130], [19, 1, 118, 348, 25, 349, 2, 130, 5], [19, 1, 118, 348, 25, 349, 2, 130, 5, 350], [83, 2], [83, 2, 1], [83, 2, 1, 153], [83, 2, 1, 153, 3], [83, 2, 1, 153, 3, 351], [83, 2, 1, 153, 3, 351, 352], [83, 2, 1, 153, 3, 351, 352, 1], [83, 2, 1, 153, 3, 351, 352, 1, 153], [37, 8], [37, 8, 353], [37, 8, 353, 354], [37, 8, 353, 354, 154], [37, 8, 353, 354, 154, 124], [37, 8, 353, 354, 154, 124, 19], [37, 8, 353, 354, 154, 124, 19, 5], [37, 8, 353, 354, 154, 124, 19, 5, 355], [356, 30], [356, 30, 82], [356, 30, 82, 35], [356, 30, 82, 35, 155], [356, 30, 82, 35, 155, 1], [356, 30, 82, 35, 155, 1, 357], [356, 30, 82, 35, 155, 1, 357, 2], [356, 30, 82, 35, 155, 1, 357, 2, 1], [356, 30, 82, 35, 155, 1, 357, 2, 1, 93], [23, 10], [23, 10, 4], [23, 10, 4, 90], [23, 10, 4, 90, 358], [23, 10, 4, 90, 358, 5], [23, 10, 4, 90, 358, 5, 156], [23, 10, 4, 90, 358, 5, 156, 6], [23, 10, 4, 90, 358, 5, 156, 6, 86], [3, 23], [3, 23, 4], [3, 23, 4, 359], [3, 23, 4, 359, 6], [3, 23, 4, 359, 6, 69], [3, 23, 4, 359, 6, 69, 58], [3, 23, 4, 359, 6, 69, 58, 2], [3, 23, 4, 359, 6, 69, 58, 2, 17], [53, 65], [53, 65, 157], [53, 65, 157, 360], [53, 65, 157, 360, 6], [53, 65, 157, 360, 6, 361], [3, 362], [3, 362, 61], [3, 362, 61, 34], [3, 362, 61, 34, 158], [3, 362, 61, 34, 158, 33], [3, 362, 61, 34, 158, 33, 5], [3, 362, 61, 34, 158, 33, 5, 363], [3, 362, 61, 34, 158, 33, 5, 363, 75], [36, 364], [36, 364, 365], [36, 364, 365, 366], [36, 364, 365, 366, 3], [36, 364, 365, 366, 3, 367], [36, 364, 365, 366, 3, 367, 19], [36, 364, 365, 366, 3, 367, 19, 1], [36, 364, 365, 366, 3, 367, 19, 1, 368], [143, 88], [143, 88, 9], [143, 88, 9, 3], [143, 88, 9, 3, 13], [143, 88, 9, 3, 13, 369], [143, 88, 9, 3, 13, 369, 61], [143, 88, 9, 3, 13, 369, 61, 370], [51, 5], [51, 5, 371], [51, 5, 371, 79], [51, 5, 371, 79, 372], [51, 5, 371, 79, 372, 88], [51, 5, 371, 79, 372, 88, 9], [51, 5, 371, 79, 372, 88, 9, 373], [71, 33], [71, 33, 2], [71, 33, 2, 374], [71, 33, 2, 374, 49], [71, 33, 2, 374, 49, 51], [71, 33, 2, 374, 49, 51, 375], [71, 33, 2, 374, 49, 51, 375, 376], [3, 37], [3, 37, 38], [3, 37, 38, 58], [3, 37, 38, 58, 2], [3, 37, 38, 58, 2, 9], [3, 37, 38, 58, 2, 9, 3], [3, 37, 38, 58, 2, 9, 3, 377], [3, 37, 38, 58, 2, 9, 3, 377, 42], [92, 55], [92, 55, 378], [92, 55, 378, 379], [92, 55, 378, 379, 380], [92, 55, 378, 379, 380, 39], [3, 381], [3, 381, 382], [3, 381, 382, 52], [3, 381, 382, 52, 4], [3, 381, 382, 52, 4, 383], [3, 381, 382, 52, 4, 383, 3], [3, 381, 382, 52, 4, 383, 3, 384], [3, 381, 382, 52, 4, 383, 3, 384, 39], [3, 381, 382, 52, 4, 383, 3, 384, 39, 49], [12, 2], [12, 2, 385], [12, 2, 385, 386], [12, 2, 385, 386, 1], [12, 2, 385, 386, 1, 67], [12, 2, 385, 386, 1, 67, 72], [12, 2, 385, 386, 1, 67, 72, 16], [12, 2, 385, 386, 1, 67, 72, 16, 387], [4, 159], [4, 159, 60], [4, 159, 60, 36], [4, 159, 60, 36, 53], [4, 159, 60, 36, 53, 388], [4, 159, 60, 36, 53, 388, 2], [4, 159, 60, 36, 53, 388, 2, 40], [4, 159, 60, 36, 53, 388, 2, 40, 117], [71, 33], [71, 33, 2], [71, 33, 2, 40], [71, 33, 2, 40, 20], [71, 33, 2, 40, 20, 152], [71, 33, 2, 40, 20, 152, 5], [71, 33, 2, 40, 20, 152, 5, 389], [71, 33, 2, 40, 20, 152, 5, 389, 97], [3, 390], [3, 390, 122], [3, 390, 122, 151], [3, 390, 122, 151, 83], [3, 390, 122, 151, 83, 5], [3, 390, 122, 151, 83, 5, 391], [3, 390, 122, 151, 83, 5, 391, 392], [393, 144], [393, 144, 160], [393, 144, 160, 1], [393, 144, 160, 1, 97], [393, 144, 160, 1, 97, 15], [393, 144, 160, 1, 97, 15, 394], [393, 144, 160, 1, 97, 15, 394, 55], [393, 144, 160, 1, 97, 15, 394, 55, 98], [21, 395], [21, 395, 53], [21, 395, 53, 150], [21, 395, 53, 150, 3], [21, 395, 53, 150, 3, 396], [21, 395, 53, 150, 3, 396, 39], [21, 395, 53, 150, 3, 396, 39, 35], [21, 395, 53, 150, 3, 396, 39, 35, 95], [18, 43], [18, 43, 17], [18, 43, 17, 99], [18, 43, 17, 99, 76], [18, 43, 17, 99, 76, 69], [18, 43, 17, 99, 76, 69, 3], [18, 43, 17, 99, 76, 69, 3, 397], [18, 43, 17, 99, 76, 69, 3, 397, 58], [13, 15], [13, 15, 68], [13, 15, 68, 398], [13, 15, 68, 398, 100], [13, 15, 68, 398, 100, 17], [13, 15, 68, 398, 100, 17, 5], [13, 15, 68, 398, 100, 17, 5, 156], [13, 15, 68, 398, 100, 17, 5, 156, 6], [13, 15, 68, 398, 100, 17, 5, 156, 6, 86], [64, 161], [64, 161, 101], [64, 161, 101, 2], [64, 161, 101, 2, 162], [64, 161, 101, 2, 162, 9], [64, 161, 101, 2, 162, 9, 67], [1, 48], [1, 48, 90], [1, 48, 90, 102], [1, 48, 90, 102, 163], [1, 48, 90, 102, 163, 399], [3, 164], [3, 164, 53], [3, 164, 53, 400], [3, 164, 53, 400, 125], [3, 164, 53, 400, 125, 3], [3, 164, 53, 400, 125, 3, 401], [7, 402], [7, 402, 403], [7, 402, 403, 72], [7, 402, 403, 72, 36], [7, 402, 403, 72, 36, 9], [7, 402, 403, 72, 36, 9, 404], [161, 101], [161, 101, 2], [161, 101, 2, 165], [161, 101, 2, 165, 9], [161, 101, 2, 165, 9, 52], [161, 101, 2, 165, 9, 52, 10], [161, 101, 2, 165, 9, 52, 10, 405], [9, 166], [9, 166, 149], [9, 166, 149, 1], [9, 166, 149, 1, 72], [9, 166, 149, 1, 72, 2], [9, 166, 149, 1, 72, 2, 162], [9, 102], [9, 102, 34], [9, 102, 34, 406], [9, 102, 34, 406, 167], [9, 102, 34, 406, 167, 10], [9, 102, 34, 406, 167, 10, 407], [3, 408], [3, 408, 9], [3, 408, 9, 409], [3, 408, 9, 409, 2], [3, 408, 9, 409, 2, 40], [8, 54], [8, 54, 5], [8, 54, 5, 84], [8, 54, 5, 84, 7], [8, 54, 5, 84, 7, 30], [8, 54, 5, 84, 7, 30, 410], [3, 411], [3, 411, 9], [3, 411, 9, 77], [3, 411, 9, 77, 73], [3, 411, 9, 77, 73, 16], [3, 411, 9, 77, 73, 16, 168], [2, 17], [2, 17, 412], [2, 17, 412, 169], [2, 17, 412, 169, 170], [3, 37], [3, 37, 20], [3, 37, 20, 171], [3, 37, 20, 171, 102], [3, 37, 20, 171, 102, 9], [3, 37, 20, 171, 102, 9, 413], [20, 171], [20, 171, 9], [20, 171, 9, 10], [20, 171, 9, 10, 414], [20, 171, 9, 10, 414, 3], [20, 171, 9, 10, 414, 3, 415], [1, 48], [1, 48, 1], [1, 48, 1, 48], [1, 48, 1, 48, 24], [1, 48, 1, 48, 24, 172], [1, 48, 1, 48, 24, 172, 2], [1, 48, 1, 48, 24, 172, 2, 416], [5, 84], [5, 84, 155], [5, 84, 155, 1], [5, 84, 155, 1, 417], [5, 84, 155, 1, 417, 3], [5, 84, 155, 1, 417, 3, 418], [1, 167], [1, 167, 10], [1, 167, 10, 419], [1, 167, 10, 419, 48], [1, 167, 10, 419, 48, 15], [1, 167, 10, 419, 48, 15, 62], [1, 103], [1, 103, 24], [1, 103, 24, 420], [1, 103, 24, 420, 169], [1, 103, 24, 420, 169, 163], [3, 66], [3, 66, 421], [3, 66, 421, 422], [3, 66, 421, 422, 1], [3, 66, 421, 422, 1, 104], [3, 66, 421, 422, 1, 104, 2], [3, 66, 421, 422, 1, 104, 2, 1], [3, 66, 421, 422, 1, 104, 2, 1, 104], [65, 133], [65, 133, 173], [65, 133, 173, 6], [65, 133, 173, 6, 131], [65, 133, 173, 6, 131, 12], [65, 133, 173, 6, 131, 12, 38], [65, 133, 173, 6, 131, 12, 38, 2], [65, 133, 173, 6, 131, 12, 38, 2, 423], [3, 173], [3, 173, 6], [3, 173, 6, 424], [3, 173, 6, 424, 12], [3, 173, 6, 424, 12, 56], [3, 173, 6, 424, 12, 56, 425], [3, 173, 6, 424, 12, 56, 425, 27], [3, 173, 6, 424, 12, 56, 425, 27, 426], [5, 427], [5, 427, 2], [5, 427, 2, 428], [5, 427, 2, 428, 429], [5, 427, 2, 428, 429, 174], [5, 427, 2, 428, 429, 174, 115], [5, 427, 2, 428, 429, 174, 115, 1], [5, 427, 2, 428, 429, 174, 115, 1, 103], [56, 164], [56, 164, 7], [56, 164, 7, 104], [56, 164, 7, 104, 430], [56, 164, 7, 104, 430, 7], [56, 164, 7, 104, 430, 7, 18], [56, 164, 7, 104, 430, 7, 18, 27], [8, 431], [8, 431, 3], [8, 431, 3, 432], [8, 431, 3, 432, 160], [8, 431, 3, 432, 160, 8], [8, 431, 3, 432, 160, 8, 433], [8, 431, 3, 432, 160, 8, 433, 434], [8, 431, 3, 432, 160, 8, 433, 434, 50], [435, 436], [435, 436, 2], [435, 436, 2, 134], [435, 436, 2, 134, 96], [435, 436, 2, 134, 96, 174], [435, 436, 2, 134, 96, 174, 8], [435, 436, 2, 134, 96, 174, 8, 10], [8, 437], [8, 437, 2], [8, 437, 2, 17], [8, 437, 2, 17, 1], [8, 437, 2, 17, 1, 103], [8, 437, 2, 17, 1, 103, 38], [8, 437, 2, 17, 1, 103, 38, 95], [2, 105], [2, 105, 16], [2, 105, 16, 438], [2, 105, 16, 438, 9], [2, 105, 16, 438, 9, 24], [2, 105, 16, 438, 9, 24, 66], [2, 105, 16, 438, 9, 24, 66, 175], [3, 15], [3, 15, 12], [3, 15, 12, 68], [3, 15, 12, 68, 132], [3, 15, 12, 68, 132, 3], [3, 15, 12, 68, 132, 3, 137], [3, 15, 12, 68, 132, 3, 137, 53], [3, 15, 12, 68, 132, 3, 137, 53, 44], [8, 439], [8, 439, 45], [8, 439, 45, 4], [8, 439, 45, 4, 43], [8, 439, 45, 4, 43, 106], [8, 439, 45, 4, 43, 106, 63], [8, 439, 45, 4, 43, 106, 63, 44], [8, 439, 45, 4, 43, 106, 63, 44, 22], [63, 440], [63, 440, 441], [63, 440, 441, 442], [63, 440, 441, 442, 443], [63, 440, 441, 442, 443, 33], [63, 440, 441, 442, 443, 33, 5], [63, 440, 441, 442, 443, 33, 5, 72], [36, 444], [36, 444, 29], [36, 444, 29, 47], [36, 444, 29, 47, 445], [36, 444, 29, 47, 445, 3], [36, 444, 29, 47, 445, 3, 32], [36, 444, 29, 47, 445, 3, 32, 446], [4, 166], [4, 166, 107], [4, 166, 107, 6], [4, 166, 107, 6, 11], [4, 166, 107, 6, 11, 14], [4, 166, 107, 6, 11, 14, 44], [4, 166, 107, 6, 11, 14, 44, 22], [4, 447], [4, 447, 45], [4, 447, 45, 4], [4, 447, 45, 4, 10], [4, 447, 45, 4, 10, 448], [4, 447, 45, 4, 10, 448, 16], [4, 447, 45, 4, 10, 448, 16, 5], [4, 447, 45, 4, 10, 448, 16, 5, 449], [2, 106], [2, 106, 11], [2, 106, 11, 176], [2, 106, 11, 176, 41], [2, 106, 11, 176, 41, 154], [2, 106, 11, 176, 41, 154, 2], [2, 106, 11, 176, 41, 154, 2, 40], [2, 106, 11, 176, 41, 154, 2, 40, 7], [2, 106, 11, 176, 41, 154, 2, 40, 7, 450], [3, 451], [3, 451, 1], [3, 451, 1, 452], [3, 451, 1, 452, 175], [3, 451, 1, 452, 175, 1], [3, 451, 1, 452, 175, 1, 129], [3, 451, 1, 452, 175, 1, 129, 29], [3, 451, 1, 452, 175, 1, 129, 29, 453], [36, 1], [36, 1, 145], [36, 1, 145, 454], [36, 1, 145, 454, 455], [36, 1, 145, 454, 455, 55], [36, 1, 145, 454, 455, 55, 456], [36, 1, 145, 454, 455, 55, 456, 100], [36, 1, 145, 454, 455, 55, 456, 100, 1], [36, 1, 145, 454, 455, 55, 456, 100, 1, 457], [71, 177], [71, 177, 2], [71, 177, 2, 32], [71, 177, 2, 32, 11], [71, 177, 2, 32, 11, 60], [71, 177, 2, 32, 11, 60, 9], [71, 177, 2, 32, 11, 60, 9, 45], [71, 177, 2, 32, 11, 60, 9, 45, 4], [71, 177, 2, 32, 11, 60, 9, 45, 4, 10], [56, 98], [56, 98, 71], [56, 98, 71, 177], [56, 98, 71, 177, 2], [56, 98, 71, 177, 2, 178], [56, 98, 71, 177, 2, 178, 63], [56, 98, 71, 177, 2, 178, 63, 22], [56, 98, 71, 177, 2, 178, 63, 22, 458], [14, 459], [14, 459, 178], [14, 459, 178, 460], [14, 459, 178, 460, 70], [14, 459, 178, 460, 70, 461], [14, 459, 178, 460, 70, 461, 16], [14, 459, 178, 460, 70, 461, 16, 11], [462, 1], [462, 1, 463], [462, 1, 463, 6], [462, 1, 463, 6, 464], [462, 1, 463, 6, 464, 465], [1, 466], [1, 466, 20], [1, 466, 20, 467], [1, 466, 20, 467, 468], [1, 466, 20, 467, 468, 85], [1, 466, 20, 467, 468, 85, 38], [1, 466, 20, 467, 468, 85, 38, 2], [4, 469], [4, 469, 23], [4, 469, 23, 158], [4, 469, 23, 158, 19], [4, 469, 23, 158, 19, 1], [4, 469, 23, 158, 19, 1, 107], [4, 469, 23, 158, 19, 1, 107, 6], [4, 469, 23, 158, 19, 1, 107, 6, 470], [37, 179], [37, 179, 51], [37, 179, 51, 471], [37, 179, 51, 471, 472], [3, 473], [3, 473, 6], [3, 473, 6, 474], [3, 473, 6, 474, 475], [3, 473, 6, 474, 475, 6], [3, 473, 6, 474, 475, 6, 476], [3, 473, 6, 474, 475, 6, 476, 70], [3, 473, 6, 474, 475, 6, 476, 70, 179], [51, 477], [51, 477, 6], [51, 477, 6, 478], [51, 477, 6, 478, 99], [51, 477, 6, 478, 99, 6], [51, 477, 6, 478, 99, 6, 52], [51, 477, 6, 478, 99, 6, 52, 10], [51, 477, 6, 478, 99, 6, 52, 10, 479], [51, 477, 6, 478, 99, 6, 52, 10, 479, 4], [51, 477, 6, 478, 99, 6, 52, 10, 479, 4, 180], [27, 480], [27, 480, 73], [27, 480, 73, 2], [27, 480, 73, 2, 17], [27, 480, 73, 2, 17, 181], [27, 480, 73, 2, 17, 181, 481], [4, 15], [4, 15, 89], [4, 15, 89, 165], [4, 15, 89, 165, 126], [4, 15, 89, 165, 126, 482], [4, 15, 89, 165, 126, 482, 26], [4, 15, 89, 165, 126, 482, 26, 43], [4, 15, 89, 165, 126, 482, 26, 43, 483], [25, 108], [25, 108, 39], [25, 108, 39, 105], [25, 108, 39, 105, 11], [25, 108, 39, 105, 11, 42], [25, 15], [25, 15, 105], [21, 159], [21, 159, 484], [21, 159, 484, 157], [21, 159, 484, 157, 69], [21, 159, 484, 157, 69, 2], [21, 159, 484, 157, 69, 2, 108], [21, 159, 484, 157, 69, 2, 108, 25], [21, 159, 484, 157, 69, 2, 108, 25, 32], [21, 159, 484, 157, 69, 2, 108, 25, 32, 11], [109, 26], [109, 26, 485], [109, 26, 485, 7], [109, 26, 485, 7, 31], [109, 26, 485, 7, 31, 7], [109, 26, 485, 7, 31, 7, 486], [109, 26, 485, 7, 31, 7, 486, 34], [109, 26, 485, 7, 31, 7, 486, 34, 487], [18, 488], [18, 488, 489], [18, 488, 489, 78], [18, 488, 489, 78, 6], [18, 488, 489, 78, 6, 182], [18, 488, 489, 78, 6, 182, 21], [18, 488, 489, 78, 6, 182, 21, 12], [18, 488, 489, 78, 6, 182, 21, 12, 5], [18, 488, 489, 78, 6, 182, 21, 12, 5, 490], [491, 492], [491, 492, 3], [491, 492, 3, 79], [491, 492, 3, 79, 493], [491, 492, 3, 79, 493, 182], [29, 183], [29, 183, 3], [29, 183, 3, 183], [29, 183, 3, 183, 1], [29, 183, 3, 183, 1, 494], [29, 183, 3, 183, 1, 494, 8], [29, 183, 3, 183, 1, 494, 8, 495], [29, 183, 3, 183, 1, 494, 8, 495, 496], [29, 183, 3, 183, 1, 494, 8, 495, 496, 2], [70, 497], [70, 497, 2], [70, 497, 2, 94], [70, 497, 2, 94, 498], [70, 497, 2, 94, 498, 31], [70, 497, 2, 94, 498, 31, 499], [70, 497, 2, 94, 498, 31, 499, 13], [19, 5], [19, 5, 500], [19, 5, 500, 501], [19, 5, 500, 501, 18], [19, 5, 500, 501, 18, 43], [19, 5, 500, 501, 18, 43, 68], [4, 107], [4, 107, 23], [4, 107, 23, 34], [4, 107, 23, 34, 21], [4, 107, 23, 34, 21, 502], [4, 107, 23, 34, 21, 502, 27], [4, 107, 23, 34, 21, 502, 27, 2], [4, 107, 23, 34, 21, 502, 27, 2, 94], [4, 107, 23, 34, 21, 502, 27, 2, 94, 23], [503, 504], [503, 504, 1], [503, 504, 1, 109], [503, 504, 1, 109, 28], [503, 504, 1, 109, 28, 1], [503, 504, 1, 109, 28, 1, 170], [503, 504, 1, 109, 28, 1, 170, 505], [503, 504, 1, 109, 28, 1, 170, 505, 42], [3, 101], [3, 101, 35], [3, 101, 35, 28], [3, 101, 35, 28, 1], [3, 101, 35, 28, 1, 168], [3, 101, 35, 28, 1, 168, 8], [3, 101, 35, 28, 1, 168, 8, 180], [3, 101, 35, 28, 1, 168, 8, 180, 5], [3, 101, 35, 28, 1, 168, 8, 180, 5, 74], [5, 74], [5, 74, 44], [5, 74, 44, 22], [5, 74, 44, 22, 506], [5, 74, 44, 22, 506, 52], [5, 74, 44, 22, 506, 52, 184], [8, 507], [8, 507, 31], [8, 507, 31, 508], [8, 507, 31, 508, 6], [8, 507, 31, 508, 6, 509], [8, 507, 31, 508, 6, 509, 18], [8, 507, 31, 508, 6, 509, 18, 2], [8, 507, 31, 508, 6, 509, 18, 2, 39], [5, 74], [5, 74, 22], [5, 74, 22, 43], [5, 74, 22, 43, 38], [5, 74, 22, 43, 38, 2], [5, 74, 22, 43, 38, 2, 185], [5, 74, 22, 43, 38, 2, 185, 186], [37, 4], [37, 4, 10], [37, 4, 10, 510], [37, 4, 10, 510, 4], [37, 4, 10, 510, 4, 24], [37, 4, 10, 510, 4, 24, 91], [37, 4, 10, 510, 4, 24, 91, 172], [2, 108], [2, 108, 96], [2, 108, 96, 32], [2, 108, 96, 32, 11], [2, 108, 96, 32, 11, 91], [2, 108, 96, 32, 11, 91, 511], [2, 108, 96, 32, 11, 91, 511, 512], [21, 185], [21, 185, 186], [21, 185, 186, 513], [21, 185, 186, 513, 23], [21, 185, 186, 513, 23, 187], [21, 185, 186, 513, 23, 187, 188], [1, 514], [1, 514, 6], [1, 514, 6, 109], [1, 514, 6, 109, 4], [1, 514, 6, 109, 4, 57], [1, 514, 6, 109, 4, 57, 515], [1, 514, 6, 109, 4, 57, 515, 110], [1, 514, 6, 109, 4, 57, 515, 110, 111], [16, 18], [16, 18, 10], [16, 18, 10, 29], [16, 18, 10, 29, 26], [16, 18, 10, 29, 26, 516], [16, 18, 10, 29, 26, 516, 50], [16, 18, 10, 29, 26, 516, 50, 184], [110, 111], [110, 111, 23], [110, 111, 23, 187], [110, 111, 23, 187, 188], [110, 111, 23, 187, 188, 1], [110, 111, 23, 187, 188, 1, 517], [110, 111, 23, 187, 188, 1, 517, 518], [4, 57], [4, 57, 17], [4, 57, 17, 519], [4, 57, 17, 519, 2], [4, 57, 17, 519, 2, 520], [4, 57, 17, 519, 2, 520, 1], [4, 57, 17, 519, 2, 520, 1, 521], [43, 522], [43, 522, 7], [43, 522, 7, 523], [43, 522, 7, 523, 16], [43, 522, 7, 523, 16, 99], [43, 522, 7, 523, 16, 99, 22], [43, 522, 7, 523, 16, 99, 22, 33], [43, 522, 7, 523, 16, 99, 22, 33, 524], [525, 526], [525, 526, 527], [525, 526, 527, 528], [525, 526, 527, 528, 529], [15, 530], [15, 530, 73], [15, 530, 73, 28], [15, 530, 73, 28, 2], [15, 530, 73, 28, 2, 531], [15, 530, 73, 28, 2, 531, 176], [15, 530, 73, 28, 2, 531, 176, 73], [5, 74], [5, 74, 44], [5, 74, 44, 22], [5, 74, 44, 22, 4], [5, 74, 44, 22, 4, 532], [5, 74, 44, 22, 4, 532, 60], [5, 74, 44, 22, 4, 532, 60, 4], [5, 74, 44, 22, 4, 532, 60, 4, 24], [181, 110], [181, 110, 111], [181, 110, 111, 98], [181, 110, 111, 98, 2], [181, 110, 111, 98, 2, 533], [181, 110, 111, 98, 2, 533, 49], [181, 110, 111, 98, 2, 533, 49, 100], [181, 110, 111, 98, 2, 533, 49, 100, 106], [14, 92], [14, 92, 17], [14, 92, 17, 534], [14, 92, 17, 534, 20], [14, 92, 17, 534, 20, 5], [14, 92, 17, 534, 20, 5, 535], [14, 92, 17, 534, 20, 5, 535, 536], [34, 537], [34, 537, 4], [34, 537, 4, 538], [34, 537, 4, 538, 120], [34, 537, 4, 538, 120, 13], [34, 537, 4, 538, 120, 13, 7], [34, 537, 4, 538, 120, 13, 7, 5], [34, 537, 4, 538, 120, 13, 7, 5, 539], [4, 540], [4, 540, 541], [4, 540, 541, 189], [4, 540, 541, 189, 4], [4, 540, 541, 189, 4, 15], [4, 540, 541, 189, 4, 15, 542], [4, 540, 541, 189, 4, 15, 542, 25], [4, 540, 541, 189, 4, 15, 542, 25, 13], [7, 189], [7, 189, 25], [7, 189, 25, 543], [7, 189, 25, 543, 5], [7, 189, 25, 543, 5, 544], [7, 189, 25, 543, 5, 544, 44]]\n"
     ]
    }
   ],
   "source": [
    "# We will turn the sentences to sequences line by line and create n_gram sequences\n",
    "\n",
    "input_seq = []\n",
    "\n",
    "for line in final_data:\n",
    "  token_list = tokenizer.texts_to_sequences([line])[0]\n",
    "  for i in range(1, len(token_list)):\n",
    "    n_gram_seq = token_list[:i+1]\n",
    "    input_seq.append(n_gram_seq)\n",
    "\n",
    "print(input_seq)"
   ]
  },
  {
   "cell_type": "code",
   "execution_count": 14,
   "id": "29d724af",
   "metadata": {},
   "outputs": [
    {
     "name": "stdout",
     "output_type": "stream",
     "text": [
      "11\n"
     ]
    }
   ],
   "source": [
    "# Getting the maximum length of sequence for padding purpose\n",
    "max_seq_length = max(len(x) for x in input_seq)\n",
    "print(max_seq_length)"
   ]
  },
  {
   "cell_type": "code",
   "execution_count": 15,
   "id": "32d3aa64",
   "metadata": {},
   "outputs": [
    {
     "name": "stdout",
     "output_type": "stream",
     "text": [
      "[[  0   0   0 ...   0 112 113]\n",
      " [  0   0   0 ... 112 113 114]\n",
      " [  0   0   0 ... 113 114   7]\n",
      " ...\n",
      " [  0   0   0 ...  25 543   5]\n",
      " [  0   0   0 ... 543   5 544]\n",
      " [  0   0   0 ...   5 544  44]]\n"
     ]
    }
   ],
   "source": [
    "# Padding the sequences and converting them to array\n",
    "input_seq = np.array(pad_sequences(input_seq, maxlen=max_seq_length, padding='pre'))\n",
    "print(input_seq)"
   ]
  },
  {
   "cell_type": "code",
   "execution_count": 16,
   "id": "dae48a74",
   "metadata": {},
   "outputs": [
    {
     "name": "stdout",
     "output_type": "stream",
     "text": [
      "xs:  [[  0   0   0 ...   0   0 112]\n",
      " [  0   0   0 ...   0 112 113]\n",
      " [  0   0   0 ... 112 113 114]\n",
      " ...\n",
      " [  0   0   0 ... 189  25 543]\n",
      " [  0   0   0 ...  25 543   5]\n",
      " [  0   0   0 ... 543   5 544]]\n",
      "labels: [113 114   7 ...   5 544  44]\n"
     ]
    }
   ],
   "source": [
    "# Taking xs and labels to train the model.\n",
    "\n",
    "xs = input_seq[:, :-1]        # xs contains every word in sentence except the last one because we are using this value to predict the y value\n",
    "labels = input_seq[:, -1]     # labels contains only the last word of the sentence which will help in hot encoding the y value in next step\n",
    "print(\"xs: \",xs)\n",
    "print(\"labels:\",labels)"
   ]
  },
  {
   "cell_type": "code",
   "execution_count": 17,
   "id": "3a86127f",
   "metadata": {},
   "outputs": [
    {
     "name": "stdout",
     "output_type": "stream",
     "text": [
      "[[0. 0. 0. ... 0. 0. 0.]\n",
      " [0. 0. 0. ... 0. 0. 0.]\n",
      " [0. 0. 0. ... 0. 0. 0.]\n",
      " ...\n",
      " [0. 0. 0. ... 0. 0. 0.]\n",
      " [0. 0. 0. ... 0. 0. 1.]\n",
      " [0. 0. 0. ... 0. 0. 0.]]\n"
     ]
    }
   ],
   "source": [
    "from tensorflow.keras.utils import to_categorical\n",
    "\n",
    "# one-hot encoding the labels according to the vocab size\n",
    "\n",
    "# The matrix is square matrix of the size of vocab_size. Each row will denote a label and it will have \n",
    "# a single +ve value(i.e 1) for that label and other values will be zero. \n",
    "\n",
    "ys = to_categorical(labels, num_classes=vocab_size)\n",
    "print(ys)\n"
   ]
  },
  {
   "cell_type": "code",
   "execution_count": 18,
   "id": "3a92f9b0",
   "metadata": {},
   "outputs": [],
   "source": [
    "from tensorflow.keras.layers import Input, Dense, Embedding, LSTM, Dropout, Bidirectional, GlobalMaxPooling1D\n",
    "from tensorflow.keras.models import Model\n",
    "from tensorflow.keras.optimizers import Adam\n",
    "from tensorflow.keras.models import Sequential\n"
   ]
  },
  {
   "cell_type": "code",
   "execution_count": 19,
   "id": "66ce3961",
   "metadata": {},
   "outputs": [
    {
     "name": "stderr",
     "output_type": "stream",
     "text": [
      "WARNING:absl:`lr` is deprecated, please use `learning_rate` instead, or use the legacy optimizer, e.g.,tf.keras.optimizers.legacy.Adam.\n"
     ]
    },
    {
     "name": "stdout",
     "output_type": "stream",
     "text": [
      "Epoch 1/100\n",
      "38/38 [==============================] - 52s 943ms/step - loss: 6.1181 - accuracy: 0.0367\n",
      "Epoch 2/100\n",
      "38/38 [==============================] - 33s 852ms/step - loss: 5.8324 - accuracy: 0.0467\n",
      "Epoch 3/100\n",
      "38/38 [==============================] - 31s 822ms/step - loss: 5.7523 - accuracy: 0.0467\n",
      "Epoch 4/100\n",
      "38/38 [==============================] - 34s 900ms/step - loss: 5.7175 - accuracy: 0.0426\n",
      "Epoch 5/100\n",
      "38/38 [==============================] - 41s 1s/step - loss: 5.7055 - accuracy: 0.0417\n",
      "Epoch 6/100\n",
      "38/38 [==============================] - 32s 843ms/step - loss: 5.6772 - accuracy: 0.0459\n",
      "Epoch 7/100\n",
      "38/38 [==============================] - 34s 902ms/step - loss: 5.6015 - accuracy: 0.0434\n",
      "Epoch 8/100\n",
      "38/38 [==============================] - 32s 838ms/step - loss: 5.4722 - accuracy: 0.0543\n",
      "Epoch 9/100\n",
      "38/38 [==============================] - 31s 823ms/step - loss: 5.3435 - accuracy: 0.0551\n",
      "Epoch 10/100\n",
      "38/38 [==============================] - 32s 856ms/step - loss: 5.2062 - accuracy: 0.0659\n",
      "Epoch 11/100\n",
      "38/38 [==============================] - 39s 1s/step - loss: 5.0563 - accuracy: 0.0735\n",
      "Epoch 12/100\n",
      "38/38 [==============================] - 37s 981ms/step - loss: 4.9121 - accuracy: 0.0701\n",
      "Epoch 13/100\n",
      "38/38 [==============================] - 32s 834ms/step - loss: 4.7227 - accuracy: 0.0801\n",
      "Epoch 14/100\n",
      "38/38 [==============================] - 34s 888ms/step - loss: 4.5043 - accuracy: 0.1002\n",
      "Epoch 15/100\n",
      "38/38 [==============================] - 34s 890ms/step - loss: 4.2889 - accuracy: 0.1010\n",
      "Epoch 16/100\n",
      "38/38 [==============================] - 32s 854ms/step - loss: 4.0851 - accuracy: 0.1152\n",
      "Epoch 17/100\n",
      "38/38 [==============================] - 33s 880ms/step - loss: 3.8676 - accuracy: 0.1352\n",
      "Epoch 18/100\n",
      "38/38 [==============================] - 38s 992ms/step - loss: 3.6127 - accuracy: 0.1461\n",
      "Epoch 19/100\n",
      "38/38 [==============================] - 31s 821ms/step - loss: 3.3864 - accuracy: 0.1861\n",
      "Epoch 20/100\n",
      "38/38 [==============================] - 31s 815ms/step - loss: 3.1357 - accuracy: 0.2104\n",
      "Epoch 21/100\n",
      "38/38 [==============================] - 31s 816ms/step - loss: 2.8777 - accuracy: 0.2554\n",
      "Epoch 22/100\n",
      "38/38 [==============================] - 31s 813ms/step - loss: 2.7155 - accuracy: 0.2888\n",
      "Epoch 23/100\n",
      "38/38 [==============================] - 31s 820ms/step - loss: 2.4206 - accuracy: 0.3464\n",
      "Epoch 24/100\n",
      "38/38 [==============================] - 33s 865ms/step - loss: 2.2359 - accuracy: 0.3898\n",
      "Epoch 25/100\n",
      "38/38 [==============================] - 34s 896ms/step - loss: 1.9948 - accuracy: 0.4508\n",
      "Epoch 26/100\n",
      "38/38 [==============================] - 35s 917ms/step - loss: 1.8193 - accuracy: 0.4917\n",
      "Epoch 27/100\n",
      "38/38 [==============================] - 38s 1s/step - loss: 1.6127 - accuracy: 0.5584\n",
      "Epoch 28/100\n",
      "38/38 [==============================] - 39s 1s/step - loss: 1.4777 - accuracy: 0.5843\n",
      "Epoch 29/100\n",
      "38/38 [==============================] - 37s 978ms/step - loss: 1.3217 - accuracy: 0.6319\n",
      "Epoch 30/100\n",
      "38/38 [==============================] - 38s 1s/step - loss: 1.1976 - accuracy: 0.6619\n",
      "Epoch 31/100\n",
      "38/38 [==============================] - 38s 997ms/step - loss: 1.0974 - accuracy: 0.6970\n",
      "Epoch 32/100\n",
      "38/38 [==============================] - 46s 1s/step - loss: 1.0371 - accuracy: 0.7137\n",
      "Epoch 33/100\n",
      "38/38 [==============================] - 43s 1s/step - loss: 0.8812 - accuracy: 0.7546\n",
      "Epoch 34/100\n",
      "38/38 [==============================] - 41s 1s/step - loss: 0.7667 - accuracy: 0.7896\n",
      "Epoch 35/100\n",
      "38/38 [==============================] - 43s 1s/step - loss: 0.7234 - accuracy: 0.8055\n",
      "Epoch 36/100\n",
      "38/38 [==============================] - 43s 1s/step - loss: 0.6573 - accuracy: 0.8230\n",
      "Epoch 37/100\n",
      "38/38 [==============================] - 41s 1s/step - loss: 0.6420 - accuracy: 0.8272\n",
      "Epoch 38/100\n",
      "38/38 [==============================] - 45s 1s/step - loss: 0.6207 - accuracy: 0.8264\n",
      "Epoch 39/100\n",
      "38/38 [==============================] - 38s 1s/step - loss: 0.6148 - accuracy: 0.8314\n",
      "Epoch 40/100\n",
      "38/38 [==============================] - 41s 1s/step - loss: 0.6380 - accuracy: 0.8189\n",
      "Epoch 41/100\n",
      "38/38 [==============================] - 41s 1s/step - loss: 0.5498 - accuracy: 0.8297\n",
      "Epoch 42/100\n",
      "38/38 [==============================] - 36s 935ms/step - loss: 0.4889 - accuracy: 0.8564\n",
      "Epoch 43/100\n",
      "38/38 [==============================] - 42s 1s/step - loss: 0.4583 - accuracy: 0.8589\n",
      "Epoch 44/100\n",
      "38/38 [==============================] - 47s 1s/step - loss: 0.4253 - accuracy: 0.8765\n",
      "Epoch 45/100\n",
      "38/38 [==============================] - 41s 1s/step - loss: 0.3962 - accuracy: 0.8865\n",
      "Epoch 46/100\n",
      "38/38 [==============================] - 37s 976ms/step - loss: 0.3698 - accuracy: 0.8873\n",
      "Epoch 47/100\n",
      "38/38 [==============================] - 41s 1s/step - loss: 0.3662 - accuracy: 0.8982\n",
      "Epoch 48/100\n",
      "38/38 [==============================] - 40s 1s/step - loss: 0.3476 - accuracy: 0.8915\n",
      "Epoch 49/100\n",
      "38/38 [==============================] - 37s 989ms/step - loss: 0.3457 - accuracy: 0.8940\n",
      "Epoch 50/100\n",
      "38/38 [==============================] - 42s 1s/step - loss: 0.3396 - accuracy: 0.8965\n",
      "Epoch 51/100\n",
      "38/38 [==============================] - 36s 938ms/step - loss: 0.3687 - accuracy: 0.8865\n",
      "Epoch 52/100\n",
      "38/38 [==============================] - 37s 972ms/step - loss: 0.4040 - accuracy: 0.8823\n",
      "Epoch 53/100\n",
      "38/38 [==============================] - 39s 1s/step - loss: 0.3477 - accuracy: 0.8915\n",
      "Epoch 54/100\n",
      "38/38 [==============================] - 41s 1s/step - loss: 0.3419 - accuracy: 0.8923\n",
      "Epoch 55/100\n",
      "38/38 [==============================] - 42s 1s/step - loss: 0.3494 - accuracy: 0.8890\n",
      "Epoch 56/100\n",
      "38/38 [==============================] - 39s 1s/step - loss: 0.3383 - accuracy: 0.8915\n",
      "Epoch 57/100\n",
      "38/38 [==============================] - 44s 1s/step - loss: 0.3217 - accuracy: 0.8965\n",
      "Epoch 58/100\n",
      "38/38 [==============================] - 47s 1s/step - loss: 0.3230 - accuracy: 0.8907\n",
      "Epoch 59/100\n",
      "38/38 [==============================] - 43s 1s/step - loss: 0.3129 - accuracy: 0.8957\n",
      "Epoch 60/100\n",
      "38/38 [==============================] - 43s 1s/step - loss: 0.3348 - accuracy: 0.8907\n",
      "Epoch 61/100\n",
      "38/38 [==============================] - 42s 1s/step - loss: 0.3029 - accuracy: 0.8990\n",
      "Epoch 62/100\n",
      "38/38 [==============================] - 44s 1s/step - loss: 0.2992 - accuracy: 0.9007\n",
      "Epoch 63/100\n",
      "38/38 [==============================] - 47s 1s/step - loss: 0.2881 - accuracy: 0.9007\n",
      "Epoch 64/100\n",
      "38/38 [==============================] - 44s 1s/step - loss: 0.2854 - accuracy: 0.8973\n",
      "Epoch 65/100\n",
      "38/38 [==============================] - 45s 1s/step - loss: 0.2822 - accuracy: 0.8990\n",
      "Epoch 66/100\n",
      "38/38 [==============================] - 44s 1s/step - loss: 0.2844 - accuracy: 0.8948\n",
      "Epoch 67/100\n",
      "38/38 [==============================] - 44s 1s/step - loss: 0.2835 - accuracy: 0.8982\n",
      "Epoch 68/100\n",
      "38/38 [==============================] - 43s 1s/step - loss: 0.2766 - accuracy: 0.8998\n",
      "Epoch 69/100\n",
      "38/38 [==============================] - 42s 1s/step - loss: 0.2830 - accuracy: 0.9007\n",
      "Epoch 70/100\n",
      "38/38 [==============================] - 43s 1s/step - loss: 0.2943 - accuracy: 0.8990\n",
      "Epoch 71/100\n",
      "38/38 [==============================] - 44s 1s/step - loss: 0.2882 - accuracy: 0.8957\n",
      "Epoch 72/100\n",
      "38/38 [==============================] - 46s 1s/step - loss: 0.2769 - accuracy: 0.9007\n",
      "Epoch 73/100\n",
      "38/38 [==============================] - 42s 1s/step - loss: 0.2681 - accuracy: 0.9023\n",
      "Epoch 74/100\n",
      "38/38 [==============================] - 48s 1s/step - loss: 0.2790 - accuracy: 0.9007\n",
      "Epoch 75/100\n",
      "38/38 [==============================] - 45s 1s/step - loss: 0.2754 - accuracy: 0.8965\n",
      "Epoch 76/100\n",
      "38/38 [==============================] - 43s 1s/step - loss: 0.2641 - accuracy: 0.8990\n",
      "Epoch 77/100\n",
      "38/38 [==============================] - 43s 1s/step - loss: 0.2796 - accuracy: 0.8973\n",
      "Epoch 78/100\n",
      "38/38 [==============================] - 41s 1s/step - loss: 0.2858 - accuracy: 0.9015\n",
      "Epoch 79/100\n",
      "38/38 [==============================] - 45s 1s/step - loss: 0.2788 - accuracy: 0.8940\n",
      "Epoch 80/100\n",
      "38/38 [==============================] - 45s 1s/step - loss: 0.2742 - accuracy: 0.8932\n",
      "Epoch 81/100\n",
      "38/38 [==============================] - 44s 1s/step - loss: 0.2984 - accuracy: 0.8907\n",
      "Epoch 82/100\n"
     ]
    },
    {
     "name": "stdout",
     "output_type": "stream",
     "text": [
      "38/38 [==============================] - 42s 1s/step - loss: 0.3632 - accuracy: 0.8706\n",
      "Epoch 83/100\n",
      "38/38 [==============================] - 42s 1s/step - loss: 0.8381 - accuracy: 0.7396\n",
      "Epoch 84/100\n",
      "38/38 [==============================] - 44s 1s/step - loss: 0.8238 - accuracy: 0.7337\n",
      "Epoch 85/100\n",
      "38/38 [==============================] - 42s 1s/step - loss: 0.5578 - accuracy: 0.8130\n",
      "Epoch 86/100\n",
      "38/38 [==============================] - 44s 1s/step - loss: 0.4230 - accuracy: 0.8573\n",
      "Epoch 87/100\n",
      "38/38 [==============================] - 44s 1s/step - loss: 0.3346 - accuracy: 0.8815\n",
      "Epoch 88/100\n",
      "38/38 [==============================] - 38s 991ms/step - loss: 0.2939 - accuracy: 0.8948\n",
      "Epoch 89/100\n",
      "38/38 [==============================] - 38s 992ms/step - loss: 0.2721 - accuracy: 0.8948\n",
      "Epoch 90/100\n",
      "38/38 [==============================] - 39s 1s/step - loss: 0.2727 - accuracy: 0.9015\n",
      "Epoch 91/100\n",
      "38/38 [==============================] - 42s 1s/step - loss: 0.2694 - accuracy: 0.8965\n",
      "Epoch 92/100\n",
      "38/38 [==============================] - 37s 964ms/step - loss: 0.2633 - accuracy: 0.8957\n",
      "Epoch 93/100\n",
      "38/38 [==============================] - 38s 1s/step - loss: 0.2631 - accuracy: 0.8965\n",
      "Epoch 94/100\n",
      "38/38 [==============================] - 35s 916ms/step - loss: 0.2611 - accuracy: 0.9032\n",
      "Epoch 95/100\n",
      "38/38 [==============================] - 40s 1s/step - loss: 0.2574 - accuracy: 0.9007\n",
      "Epoch 96/100\n",
      "38/38 [==============================] - 39s 1s/step - loss: 0.2563 - accuracy: 0.9015\n",
      "Epoch 97/100\n",
      "38/38 [==============================] - 38s 991ms/step - loss: 0.2538 - accuracy: 0.9032\n",
      "Epoch 98/100\n",
      "38/38 [==============================] - 39s 1s/step - loss: 0.2562 - accuracy: 0.9015\n",
      "Epoch 99/100\n",
      "38/38 [==============================] - 39s 1s/step - loss: 0.2533 - accuracy: 0.8990\n",
      "Epoch 100/100\n",
      "38/38 [==============================] - 40s 1s/step - loss: 0.2602 - accuracy: 0.8973\n"
     ]
    }
   ],
   "source": [
    "# using the functional APIs of keras to define the model\n",
    "\n",
    "i = Input(shape=(max_seq_length - 1, ))                           # using 1 less value becasuse we are preserving the last value for predicted word \n",
    "x = Embedding(vocab_size, 124)(i)\n",
    "x = Dropout(0.2)(x)\n",
    "x = LSTM(520, return_sequences=True)(x)\n",
    "x = Bidirectional(layer=LSTM(340, return_sequences=True))(x)\n",
    "x = GlobalMaxPooling1D()(x)\n",
    "x = Dense(1024, activation='relu')(x)\n",
    "x = Dense(vocab_size, activation='softmax')(x)\n",
    "\n",
    "model = Model(i,x)\n",
    "\n",
    "model.compile(optimizer=Adam(lr=0.001),\n",
    "              loss = 'categorical_crossentropy',\n",
    "              metrics=['accuracy'])\n",
    "r = model.fit(xs,ys,epochs=100)\n",
    "\n",
    "model.save('traindata_generator.h5') "
   ]
  },
  {
   "cell_type": "code",
   "execution_count": null,
   "id": "bd7aa975",
   "metadata": {},
   "outputs": [],
   "source": [
    "#Step 6:Evaluating the model on accuracy"
   ]
  },
  {
   "cell_type": "code",
   "execution_count": 20,
   "id": "2e63e9e2",
   "metadata": {},
   "outputs": [
    {
     "data": {
      "text/plain": [
       "[<matplotlib.lines.Line2D at 0x1ff54d15850>]"
      ]
     },
     "execution_count": 20,
     "metadata": {},
     "output_type": "execute_result"
    },
    {
     "data": {
      "image/png": "[encoded data removed]",
      "text/plain": [
       "<Figure size 640x480 with 1 Axes>"
      ]
     },
     "metadata": {},
     "output_type": "display_data"
    }
   ],
   "source": [
    "import matplotlib.pyplot as plt\n",
    "plt.plot(r.history['accuracy'])"
   ]
  },
  {
   "cell_type": "code",
   "execution_count": null,
   "id": "ece26207",
   "metadata": {},
   "outputs": [],
   "source": [
    "#step 6:output of model"
   ]
  },
  {
   "cell_type": "code",
   "execution_count": 21,
   "id": "1e5686dd",
   "metadata": {
    "scrolled": true
   },
   "outputs": [
    {
     "name": "stdout",
     "output_type": "stream",
     "text": [
      "Input text: appple\n",
      "original text: appple\n",
      "corrected text: apple\n",
      "Number of count: 7\n",
      "1/1 [==============================] - 81s 81s/step\n",
      "1/1 [==============================] - 0s 69ms/step\n",
      "1/1 [==============================] - 0s 102ms/step\n",
      "1/1 [==============================] - 0s 172ms/step\n",
      "1/1 [==============================] - 0s 70ms/step\n",
      "1/1 [==============================] - 0s 62ms/step\n",
      "1/1 [==============================] - 0s 141ms/step\n",
      "1/1 [==============================] - 0s 137ms/step\n",
      "1/1 [==============================] - 0s 182ms/step\n",
      "1/1 [==============================] - 0s 64ms/step\n",
      "1/1 [==============================] - 0s 79ms/step\n",
      "1/1 [==============================] - 0s 93ms/step\n",
      "1/1 [==============================] - 0s 108ms/step\n",
      "1/1 [==============================] - 0s 82ms/step\n",
      "1/1 [==============================] - 0s 90ms/step\n",
      "corrected text: apple pay in cities for good trees like those bare bare fair caught fair fair fair\n",
      "None\n"
     ]
    }
   ],
   "source": [
    "from textblob import TextBlob\n",
    "# Defining a function to take input of seed text from user and no. of words to be predicted\n",
    "\n",
    "def predict_words(seed, no_words):\n",
    "  for i in range(no_words):\n",
    "    token_list = tokenizer.texts_to_sequences([seed])[0]\n",
    "    token_list = pad_sequences([token_list], maxlen=max_seq_length-1, padding='pre')\n",
    "    predicted = np.argmax(model.predict(token_list), axis=1)\n",
    "\n",
    "    new_word = ''\n",
    "\n",
    "    for word, index in tokenizer.word_index.items():\n",
    "      if predicted == index:\n",
    "        new_word = word\n",
    "        break\n",
    "    seed += \" \" + new_word\n",
    "  print(seed)\n",
    "\n",
    "# predicting or generating the poem with the seed text\n",
    "\n",
    "\n",
    "seed_text = input(\"Input text: \")\n",
    "next_words = 15\n",
    "# incorrect spelling\n",
    "print(\"original text: \"+str(seed_text))\n",
    " \n",
    "correct_text= TextBlob(seed_text)\n",
    " \n",
    "# prints the corrected spelling\n",
    "a=\"corrected text: \"+str(correct_text.correct())\n",
    "print(a)\n",
    "\n",
    "print('Number of count:', seed_text.count('')) #count of text\n",
    "\n",
    "new_text=predict_words(a, next_words)\n",
    "print(new_text)"
   ]
  },
  {
   "cell_type": "code",
   "execution_count": null,
   "id": "33c3b49b",
   "metadata": {},
   "outputs": [],
   "source": []
  }
 ],
 "metadata": {
  "kernelspec": {
   "display_name": "Python 3 (ipykernel)",
   "language": "python",
   "name": "python3"
  },
  "language_info": {
   "codemirror_mode": {
    "name": "ipython",
    "version": 3
   },
   "file_extension": ".py",
   "mimetype": "text/x-python",
   "name": "python",
   "nbconvert_exporter": "python",
   "pygments_lexer": "ipython3",
   "version": "3.9.13"
  }
 },
 "nbformat": 4,
 "nbformat_minor": 5
}
